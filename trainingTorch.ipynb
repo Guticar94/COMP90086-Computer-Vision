{
 "cells": [
  {
   "attachments": {},
   "cell_type": "markdown",
   "metadata": {},
   "source": [
    "We use the two different subsets of ShapeStacks during training (cf. Table 1), each one containing an equal amount of stable and unstable images. Both types of violations (VCOM and VPSF, cf. Section 3.2) are evenly represented among unstable images.  \n",
    "\n",
    "During training, we augment the training images by randomising colours, varying aspect-ratios, and applying random cropping, vertical flipping and minimal in-plane rotation. We ensure that all data augmentations still yield physically plausible, upright towers."
   ]
  },
  {
   "cell_type": "code",
   "execution_count": 13,
   "metadata": {},
   "outputs": [],
   "source": [
    "# %pip install opencv-python tensorflow pandas matplotlib gdown\n",
    "# %pip install scikit-learn\n",
    "## If OpenCV does not work - Run the following command in the terminal\n",
    "# sudo apt-get install python3-opencv"
   ]
  },
  {
   "cell_type": "code",
   "execution_count": 1,
   "metadata": {},
   "outputs": [],
   "source": [
    "import gdown\n",
    "import zipfile\n",
    "import os\n",
    "\n",
    "if not os.path.exists('COMP90086_2024_Project_train'):\n",
    "    # Get training data\n",
    "    file_id = '1VzGFCjc-XAHNK0ujkuGEg7E-idV7QhDv'\n",
    "    url = f'https://drive.google.com/uc?id={file_id}'\n",
    "    gdown.download(url, 'train.zip', quiet=False)\n",
    "    \n",
    "    # Unzip data\n",
    "    with zipfile.ZipFile('train.zip', 'r') as zip_ref:\n",
    "        zip_ref.extractall('COMP90086_2024_Project_train')  # specify your extraction directory\n",
    "\n",
    "    # Delete zip file\n",
    "    os.remove('train.zip')"
   ]
  },
  {
   "cell_type": "code",
   "execution_count": 2,
   "metadata": {},
   "outputs": [],
   "source": [
    "import os\n",
    "import cv2\n",
    "from collections import Counter\n",
    "import matplotlib.pyplot as plt\n",
    "import pandas as pd\n",
    "import numpy as np\n",
    "import random\n",
    "\n",
    "# Define your image size and channels\n",
    "imsize = 224"
   ]
  },
  {
   "cell_type": "code",
   "execution_count": 98,
   "metadata": {},
   "outputs": [],
   "source": [
    "# Function to get filenames and labels\n",
    "def getFilenames(rootpath, file, ds = 'train'):\n",
    "    # Lists to store file data\n",
    "    filenames = []\n",
    "    labels = []\n",
    "    # List file parameters\n",
    "    meta_list_file = os.path.join(rootpath, file)\n",
    "    with open(meta_list_file) as f:\n",
    "        meta_list = f.read().split('\\n')\n",
    "        meta_list.pop(0) # remove trailing empty line\n",
    "        meta_list.pop(-1)\n",
    "\n",
    "    for i, meta in enumerate(meta_list):\n",
    "        if (i+1) % 1000 == 0 or i+1 == len(meta_list):\n",
    "            print(\"%s / %s : %s\" % (i+1, len(meta_list), meta))\n",
    "        rec = meta.split(',')\n",
    "        filenames.append(os.path.join(rootpath, ds, rec[0]+'.jpg'))\n",
    "        if ds == 'train':\n",
    "            try:\n",
    "                # label semantics: 0 = stable | 1 = unstable\n",
    "                sem = [0. if int(rec[4]) == 0 else 1.]\n",
    "                labels.extend(sem)\n",
    "            except:\n",
    "                print(rec)\n",
    "    return filenames, labels"
   ]
  },
  {
   "cell_type": "code",
   "execution_count": 101,
   "metadata": {},
   "outputs": [
    {
     "name": "stdout",
     "output_type": "stream",
     "text": [
      "1000 / 7680 : 131545,2,2,5,0,1,5\n",
      "2000 / 7680 : 266662,2,1,2,1,1,1\n",
      "3000 / 7680 : 394858,1,2,5,0,1,5\n",
      "4000 / 7680 : 523454,1,1,6,1,2,2\n",
      "5000 / 7680 : 661586,2,2,4,1,2,2\n",
      "6000 / 7680 : 789513,1,2,6,1,1,1\n",
      "7000 / 7680 : 912435,2,2,6,2,1,2\n",
      "7680 / 7680 : 999668,1,2,4,1,2,3\n"
     ]
    },
    {
     "data": {
      "text/plain": [
       "0\n",
       "0    5760\n",
       "1    1920\n",
       "Name: count, dtype: int64"
      ]
     },
     "execution_count": 101,
     "metadata": {},
     "output_type": "execute_result"
    }
   ],
   "source": [
    "trainPath = 'COMP90086_2024_Project_train'\n",
    "trainFile = 'train.csv'\n",
    "\n",
    "filenames, labels = getFilenames(trainPath, trainFile)\n",
    "labels = np.array(labels).astype(int).tolist()\n",
    "labels = [0 if i==1 else 1 for i in labels]\n",
    "pd.DataFrame(labels).value_counts()"
   ]
  },
  {
   "cell_type": "code",
   "execution_count": 102,
   "metadata": {},
   "outputs": [],
   "source": [
    "import torch\n",
    "import torch.nn as nn\n",
    "import torch.nn.functional as F\n",
    "from torchvision import transforms\n",
    "from torch.utils.data import Dataset, DataLoader\n",
    "import torch\n",
    "from torch.utils.data import DataLoader, TensorDataset\n",
    "import torch.optim as optim\n",
    "from tqdm import tqdm  # For progress bar\n",
    "# Set device for training (GPU or CPU)\n",
    "device = torch.device('cuda' if torch.cuda.is_available() else 'cpu')"
   ]
  },
  {
   "cell_type": "code",
   "execution_count": 103,
   "metadata": {},
   "outputs": [],
   "source": [
    "# Function to augment the images\n",
    "def augment_image_cv2(image):\n",
    "    # Random horizontal flip\n",
    "    if random.random() > 0.5:\n",
    "        image = cv2.flip(image, 1)\n",
    "    \n",
    "    # Random rotation\n",
    "    angle = random.uniform(-10, 10)\n",
    "    h, w = image.shape[:2]\n",
    "    rotation_matrix = cv2.getRotationMatrix2D((w / 2, h / 2), angle, 1)\n",
    "    image = cv2.warpAffine(image, rotation_matrix, (w, h))\n",
    "    \n",
    "    # Random cropping and resizing back to target size\n",
    "    crop_size = random.uniform(0.8, 1.0)  # Crop 80% to 100% of the image\n",
    "    new_h, new_w = int(h * crop_size), int(w * crop_size)\n",
    "    y, x = random.randint(0, h - new_h), random.randint(0, w - new_w)\n",
    "    image = image[y:y+new_h, x:x+new_w]\n",
    "    image = cv2.resize(image, (2 * imsize, imsize))\n",
    "    \n",
    "    # Random brightness adjustment\n",
    "    brightness_factor = random.uniform(0.8, 1.2)\n",
    "    image = np.clip(image * brightness_factor, 0, 255).astype(np.uint8)\n",
    "    \n",
    "    return image\n",
    "    \n",
    "    # Combine the original and augmented data\n",
    "    balanced_filenames = majority_filenames + minority_filenames + augmented_minority_filenames\n",
    "    balanced_labels = [majority_class] * len(majority_filenames) + [minority_class] * len(minority_filenames) + augmented_minority_labels\n",
    "\n",
    "    return balanced_filenames, balanced_labels"
   ]
  },
  {
   "cell_type": "code",
   "execution_count": 104,
   "metadata": {},
   "outputs": [],
   "source": [
    "# Function to balance dataset by augmenting the minority class and saving augmented images\n",
    "def balance_classes(filenames, labels, output_folder='augmented_images'):\n",
    "    \"\"\" Balance the dataset by augmenting the minority class and saving augmented images \"\"\"\n",
    "    class_counts = Counter(labels)\n",
    "    majority_class = max(class_counts, key=class_counts.get)\n",
    "    minority_class = min(class_counts, key=class_counts.get)\n",
    "\n",
    "    # Create output folder for augmented images\n",
    "    os.makedirs(output_folder, exist_ok=True)\n",
    "\n",
    "    # Separate filenames by class\n",
    "    majority_filenames = [fname for fname, label in zip(filenames, labels) if label == majority_class]\n",
    "    minority_filenames = [fname for fname, label in zip(filenames, labels) if label == minority_class]\n",
    "\n",
    "    # Calculate how many more samples are needed to balance the dataset\n",
    "    difference = class_counts[majority_class] - class_counts[minority_class]\n",
    "    augmented_minority_filenames = []\n",
    "    augmented_minority_labels = []\n",
    "\n",
    "    # Augment the minority class images and save them to the new folder\n",
    "    while difference > 0:\n",
    "        for fname in minority_filenames:\n",
    "            image = cv2.imread(fname)\n",
    "            augmented_image = augment_image_cv2(image)\n",
    "\n",
    "            # Create a new filename for the augmented image\n",
    "            base_name = os.path.basename(fname)\n",
    "            new_filename = os.path.join(output_folder, f'aug_{difference}_{base_name}')\n",
    "\n",
    "            # Save the augmented image\n",
    "            cv2.imwrite(new_filename, augmented_image)\n",
    "\n",
    "            augmented_minority_filenames.append(new_filename)  # Store the new filename\n",
    "            augmented_minority_labels.append(minority_class)\n",
    "            difference -= 1\n",
    "            if difference <= 0:\n",
    "                break\n",
    "\n",
    "    # Combine the original and augmented data\n",
    "    balanced_filenames = majority_filenames + minority_filenames + augmented_minority_filenames\n",
    "    balanced_labels = [majority_class] * len(majority_filenames) + [minority_class] * len(minority_filenames) + augmented_minority_labels\n",
    "\n",
    "    return balanced_filenames, balanced_labels"
   ]
  },
  {
   "cell_type": "code",
   "execution_count": 105,
   "metadata": {},
   "outputs": [
    {
     "name": "stdout",
     "output_type": "stream",
     "text": [
      "Training dataset:\t\t Counter({0: 4032, 1: 1344})\n",
      "\n",
      "Balanced Training dataset:\t Counter({0: 4032, 1: 4032})\n",
      "Validation dataset:\t\t Counter({0: 1728, 1: 576})\n"
     ]
    }
   ],
   "source": [
    "from sklearn.model_selection import train_test_split\n",
    "# Split the dataset into training and validation sets\n",
    "train_filenames, val_filenames, train_labels, val_labels = train_test_split(\n",
    "    filenames, labels, test_size=0.3, stratify=labels, random_state=42)\n",
    "\n",
    "# Balance the training dataset by augmenting the minority class\n",
    "train_balanced_filenames, train_balanced_labels = balanced_filenames, balanced_labels = balance_classes(train_filenames, train_labels)\n",
    "\n",
    "print(f'Training dataset:\\t\\t {Counter(train_labels)}')\n",
    "print()\n",
    "print(f'Balanced Training dataset:\\t {Counter(train_balanced_labels)}')\n",
    "print(f'Validation dataset:\\t\\t {Counter(val_labels)}')"
   ]
  },
  {
   "cell_type": "code",
   "execution_count": 106,
   "metadata": {},
   "outputs": [],
   "source": [
    "# Custom Dataset class using OpenCV for image loading\n",
    "class CustomCV2Dataset(Dataset):\n",
    "    def __init__(self, filenames, labels):\n",
    "        self.filenames = filenames\n",
    "        self.labels = labels\n",
    "        self.transform = transforms.Compose([\n",
    "            transforms.ToTensor(),  # Convert to tensor\n",
    "            transforms.Normalize((0.5, 0.5, 0.5), (0.5, 0.5, 0.5))  # Normalize\n",
    "        ])\n",
    "\n",
    "    def __len__(self):\n",
    "        return len(self.filenames)\n",
    "\n",
    "    def __getitem__(self, idx):\n",
    "        # Load image using OpenCV\n",
    "        image = cv2.imread(self.filenames[idx])\n",
    "        image = cv2.cvtColor(image, cv2.COLOR_BGR2RGB)  # Convert from BGR to RGB\n",
    "        image = cv2.resize(image, (2 * imsize, imsize))  # Resize without augmentation\n",
    "\n",
    "        # Convert the image to tensor and normalize\n",
    "        image = self.transform(image)\n",
    "        label = self.labels[idx]\n",
    "        return image, label\n",
    "\n",
    "# Create datasets with balanced data\n",
    "# train_dataset = CustomCV2Dataset(train_filenames, train_labels)\n",
    "train_dataset = CustomCV2Dataset(train_balanced_filenames, train_balanced_labels)\n",
    "val_dataset = CustomCV2Dataset(val_filenames, val_labels)  # Use the original validation data\n",
    "\n",
    "# Create DataLoaders\n",
    "batch_size = 32\n",
    "train_loader = DataLoader(train_dataset, batch_size=batch_size, shuffle=True, num_workers=4)\n",
    "validation_loader = DataLoader(val_dataset, batch_size=batch_size, shuffle=False, num_workers=4)"
   ]
  },
  {
   "cell_type": "code",
   "execution_count": 107,
   "metadata": {},
   "outputs": [],
   "source": [
    "# Define the CNN model\n",
    "class CNN(nn.Module):\n",
    "    def __init__(self):\n",
    "        super(CNN, self).__init__()\n",
    "        self.conv1 = nn.Conv2d(in_channels=6, out_channels=16, kernel_size=3, stride=1, padding=1)  # Output: (16, 224, 224)\n",
    "        self.pool = nn.MaxPool2d(kernel_size=2, stride=2)  # Downsampling\n",
    "        self.conv2 = nn.Conv2d(in_channels=16, out_channels=32, kernel_size=3, stride=1, padding=1)  # Output: (32, 112, 112)\n",
    "        \n",
    "        # Flatten will adjust based on the calculated size\n",
    "        self.flattened_size = self._get_flattened_size()\n",
    "        self.fc1 = nn.Linear(self.flattened_size, 64)  # Adjusted size based on calculation\n",
    "        self.fc2 = nn.Linear(64, 2)  # Output layer for 2 classes\n",
    "\n",
    "    def _get_flattened_size(self):\n",
    "        # Create a dummy tensor to calculate the flattened size\n",
    "        with torch.no_grad():\n",
    "            x = torch.zeros(1, 6, 224, 224)  # Example input with correct dimensions\n",
    "            x = self.pool(F.relu(self.conv1(x)))  # Conv1 + ReLU + Max Pooling\n",
    "            x = self.pool(F.relu(self.conv2(x)))  # Conv2 + ReLU + Max Pooling\n",
    "            return x.numel()  # Get the number of elements in the output tensor\n",
    "\n",
    "    def forward(self, x):\n",
    "        x = x.contiguous().view(-1, 6, 224, 224)  # Reshape input\n",
    "        x = self.pool(F.relu(self.conv1(x)))  # Conv1 + ReLU + Max Pooling\n",
    "        x = self.pool(F.relu(self.conv2(x)))  # Conv2 + ReLU + Max Pooling\n",
    "        x = x.view(x.size(0), -1)  # Flatten the output for fully connected layers\n",
    "        x = self.fc1(x)  # First fully connected layer\n",
    "        x = self.fc2(x)  # Final output layer\n",
    "        return x"
   ]
  },
  {
   "cell_type": "code",
   "execution_count": 108,
   "metadata": {},
   "outputs": [],
   "source": [
    "# Function to train the model\n",
    "def train_model(model, train_loader, val_loader, criterion, optimizer, epochs):\n",
    "    train_losses = []\n",
    "    train_accuracies = []\n",
    "    val_losses = []\n",
    "    val_accuracies = []\n",
    "\n",
    "    for epoch in range(epochs):\n",
    "        model.train()  # Set model to training mode\n",
    "        running_loss = 0.0\n",
    "        correct = 0\n",
    "        total = 0\n",
    "        \n",
    "        # Iterate over training data\n",
    "        for images, labels in tqdm(train_loader, desc=f\"Training Epoch {epoch+1}/{epochs}\"):\n",
    "            images, labels = images.to(device), labels.to(device).long()  # Move data to device\n",
    "            \n",
    "            optimizer.zero_grad()  # Zero the gradients\n",
    "            outputs = model(images)  # Forward pass\n",
    "            loss = criterion(outputs, labels)  # Calculate loss\n",
    "            loss.backward()  # Backward pass\n",
    "            optimizer.step()  # Optimize the model parameters\n",
    "            \n",
    "            running_loss += loss.item()  # Accumulate loss\n",
    "            _, predicted = torch.max(outputs.data, 1)  # Get the predicted classes\n",
    "            total += labels.size(0)  # Total samples\n",
    "            correct += (predicted == labels).sum().item()  # Correct predictions\n",
    "\n",
    "        # Calculate average loss and accuracy\n",
    "        epoch_loss = running_loss / len(train_loader)\n",
    "        epoch_accuracy = correct / total\n",
    "        train_losses.append(epoch_loss)\n",
    "        train_accuracies.append(epoch_accuracy)\n",
    "\n",
    "        print(f\"Epoch [{epoch+1}/{epochs}], Loss: {epoch_loss:.4f}, Accuracy: {epoch_accuracy:.4f}\")\n",
    "\n",
    "        # Validation\n",
    "        model.eval()  # Set model to evaluation mode\n",
    "        val_loss = 0.0\n",
    "        val_correct = 0\n",
    "        val_total = 0\n",
    "        \n",
    "        with torch.no_grad():  # No gradient calculation in validation\n",
    "            for val_images, val_labels in val_loader:\n",
    "                val_images, val_labels = val_images.to(device), val_labels.to(device).long()\n",
    "                val_outputs = model(val_images)\n",
    "                loss = criterion(val_outputs, val_labels)\n",
    "                val_loss += loss.item()\n",
    "                _, val_predicted = torch.max(val_outputs.data, 1)\n",
    "                val_total += val_labels.size(0)\n",
    "                val_correct += (val_predicted == val_labels).sum().item()\n",
    "\n",
    "        # Calculate validation loss and accuracy\n",
    "        val_loss /= len(val_loader)\n",
    "        val_accuracy = val_correct / val_total\n",
    "        val_losses.append(val_loss)\n",
    "        val_accuracies.append(val_accuracy)\n",
    "        \n",
    "        print(f\"Validation Loss: {val_loss:.4f}, Validation Accuracy: {val_accuracy:.4f}\")\n",
    "\n",
    "    return train_losses, train_accuracies, val_losses, val_accuracies"
   ]
  },
  {
   "cell_type": "code",
   "execution_count": 109,
   "metadata": {},
   "outputs": [],
   "source": [
    "import matplotlib.pyplot as plt\n",
    "\n",
    "# Function to plot loss and accuracy\n",
    "def plot_loss_accuracy(train_losses, train_accuracies, val_losses, val_accuracies, epochs):\n",
    "    epochs_range = range(1, epochs + 1)\n",
    "    \n",
    "    # Plot Loss\n",
    "    plt.figure(figsize=(14, 6))\n",
    "    \n",
    "    plt.subplot(1, 2, 1)\n",
    "    plt.plot(epochs_range, train_losses, label='Training Loss', color='blue')\n",
    "    plt.plot(epochs_range, val_losses, label='Validation Loss', color='orange')\n",
    "    plt.title('Loss Curve')\n",
    "    plt.xlabel('Epochs')\n",
    "    plt.ylabel('Loss')\n",
    "    plt.legend()\n",
    "    \n",
    "    # Plot Accuracy\n",
    "    plt.subplot(1, 2, 2)\n",
    "    plt.plot(epochs_range, train_accuracies, label='Training Accuracy', color='blue')\n",
    "    plt.plot(epochs_range, val_accuracies, label='Validation Accuracy', color='orange')\n",
    "    plt.title('Accuracy Curve')\n",
    "    plt.xlabel('Epochs')\n",
    "    plt.ylabel('Accuracy')\n",
    "    plt.legend()\n",
    "    \n",
    "    plt.tight_layout()\n",
    "    plt.show()\n"
   ]
  },
  {
   "cell_type": "code",
   "execution_count": 110,
   "metadata": {},
   "outputs": [],
   "source": [
    "# Calculate class weights\n",
    "class_counts = torch.tensor([1920, 5760], dtype=torch.float32)\n",
    "class_weights = 1.0 / class_counts\n",
    "\n",
    "# Assign class weights to the loss function\n",
    "weights = class_weights.to(device)  # Move to device if using GPU"
   ]
  },
  {
   "cell_type": "code",
   "execution_count": 111,
   "metadata": {},
   "outputs": [
    {
     "name": "stderr",
     "output_type": "stream",
     "text": [
      "Training Epoch 1/10: 100%|██████████| 252/252 [00:05<00:00, 48.32it/s]"
     ]
    },
    {
     "name": "stdout",
     "output_type": "stream",
     "text": [
      "Epoch [1/10], Loss: 0.5908, Accuracy: 0.6298\n"
     ]
    },
    {
     "name": "stderr",
     "output_type": "stream",
     "text": [
      "\n"
     ]
    },
    {
     "name": "stdout",
     "output_type": "stream",
     "text": [
      "Validation Loss: 0.3763, Validation Accuracy: 0.7487\n"
     ]
    },
    {
     "name": "stderr",
     "output_type": "stream",
     "text": [
      "Training Epoch 2/10: 100%|██████████| 252/252 [00:05<00:00, 48.95it/s]"
     ]
    },
    {
     "name": "stdout",
     "output_type": "stream",
     "text": [
      "Epoch [2/10], Loss: 0.3501, Accuracy: 0.8059\n"
     ]
    },
    {
     "name": "stderr",
     "output_type": "stream",
     "text": [
      "\n"
     ]
    },
    {
     "name": "stdout",
     "output_type": "stream",
     "text": [
      "Validation Loss: 0.3830, Validation Accuracy: 0.7457\n"
     ]
    },
    {
     "name": "stderr",
     "output_type": "stream",
     "text": [
      "Training Epoch 3/10: 100%|██████████| 252/252 [00:05<00:00, 48.86it/s]"
     ]
    },
    {
     "name": "stdout",
     "output_type": "stream",
     "text": [
      "Epoch [3/10], Loss: 0.3220, Accuracy: 0.8197\n"
     ]
    },
    {
     "name": "stderr",
     "output_type": "stream",
     "text": [
      "\n"
     ]
    },
    {
     "name": "stdout",
     "output_type": "stream",
     "text": [
      "Validation Loss: 0.4160, Validation Accuracy: 0.7270\n"
     ]
    },
    {
     "name": "stderr",
     "output_type": "stream",
     "text": [
      "Training Epoch 4/10: 100%|██████████| 252/252 [00:05<00:00, 45.97it/s]"
     ]
    },
    {
     "name": "stdout",
     "output_type": "stream",
     "text": [
      "Epoch [4/10], Loss: 0.3063, Accuracy: 0.8265\n"
     ]
    },
    {
     "name": "stderr",
     "output_type": "stream",
     "text": [
      "\n"
     ]
    },
    {
     "name": "stdout",
     "output_type": "stream",
     "text": [
      "Validation Loss: 0.3850, Validation Accuracy: 0.7383\n"
     ]
    },
    {
     "name": "stderr",
     "output_type": "stream",
     "text": [
      "Training Epoch 5/10: 100%|██████████| 252/252 [00:05<00:00, 46.14it/s]"
     ]
    },
    {
     "name": "stdout",
     "output_type": "stream",
     "text": [
      "Epoch [5/10], Loss: 0.2923, Accuracy: 0.8340\n"
     ]
    },
    {
     "name": "stderr",
     "output_type": "stream",
     "text": [
      "\n"
     ]
    },
    {
     "name": "stdout",
     "output_type": "stream",
     "text": [
      "Validation Loss: 0.3912, Validation Accuracy: 0.7465\n"
     ]
    },
    {
     "name": "stderr",
     "output_type": "stream",
     "text": [
      "Training Epoch 6/10: 100%|██████████| 252/252 [00:05<00:00, 46.92it/s]"
     ]
    },
    {
     "name": "stdout",
     "output_type": "stream",
     "text": [
      "Epoch [6/10], Loss: 0.2772, Accuracy: 0.8349\n"
     ]
    },
    {
     "name": "stderr",
     "output_type": "stream",
     "text": [
      "\n"
     ]
    },
    {
     "name": "stdout",
     "output_type": "stream",
     "text": [
      "Validation Loss: 0.3983, Validation Accuracy: 0.7361\n"
     ]
    },
    {
     "name": "stderr",
     "output_type": "stream",
     "text": [
      "Training Epoch 7/10: 100%|██████████| 252/252 [00:05<00:00, 47.08it/s]"
     ]
    },
    {
     "name": "stdout",
     "output_type": "stream",
     "text": [
      "Epoch [7/10], Loss: 0.2661, Accuracy: 0.8390\n"
     ]
    },
    {
     "name": "stderr",
     "output_type": "stream",
     "text": [
      "\n"
     ]
    },
    {
     "name": "stdout",
     "output_type": "stream",
     "text": [
      "Validation Loss: 0.4179, Validation Accuracy: 0.7313\n"
     ]
    },
    {
     "name": "stderr",
     "output_type": "stream",
     "text": [
      "Training Epoch 8/10: 100%|██████████| 252/252 [00:05<00:00, 45.36it/s]\n"
     ]
    },
    {
     "name": "stdout",
     "output_type": "stream",
     "text": [
      "Epoch [8/10], Loss: 0.2547, Accuracy: 0.8457\n",
      "Validation Loss: 0.4380, Validation Accuracy: 0.7101\n"
     ]
    },
    {
     "name": "stderr",
     "output_type": "stream",
     "text": [
      "Training Epoch 9/10: 100%|██████████| 252/252 [00:05<00:00, 49.14it/s]"
     ]
    },
    {
     "name": "stdout",
     "output_type": "stream",
     "text": [
      "Epoch [9/10], Loss: 0.2384, Accuracy: 0.8558\n"
     ]
    },
    {
     "name": "stderr",
     "output_type": "stream",
     "text": [
      "\n"
     ]
    },
    {
     "name": "stdout",
     "output_type": "stream",
     "text": [
      "Validation Loss: 0.4902, Validation Accuracy: 0.6914\n"
     ]
    },
    {
     "name": "stderr",
     "output_type": "stream",
     "text": [
      "Training Epoch 10/10: 100%|██████████| 252/252 [00:04<00:00, 51.66it/s]"
     ]
    },
    {
     "name": "stdout",
     "output_type": "stream",
     "text": [
      "Epoch [10/10], Loss: 0.2209, Accuracy: 0.8642\n"
     ]
    },
    {
     "name": "stderr",
     "output_type": "stream",
     "text": [
      "\n"
     ]
    },
    {
     "name": "stdout",
     "output_type": "stream",
     "text": [
      "Validation Loss: 0.4456, Validation Accuracy: 0.7166\n"
     ]
    }
   ],
   "source": [
    "# Instantiate the model\n",
    "model = CNN()\n",
    "# Move the model to the appropriate device\n",
    "model.to(device)\n",
    "\n",
    "# Define the loss function and optimizer\n",
    "criterion = nn.CrossEntropyLoss(weights)  # Loss function for multi-class classification\n",
    "optimizer = optim.Adam(model.parameters(), lr=0.001)  # Adam optimizer with learning rate 0.001\n",
    "\n",
    "# Training parameters\n",
    "epochs = 10\n",
    "\n",
    "# Train the model\n",
    "train_losses, train_accuracies, val_losses, val_accuracies = train_model(model, train_loader, validation_loader, criterion, optimizer, epochs)"
   ]
  },
  {
   "cell_type": "code",
   "execution_count": 112,
   "metadata": {},
   "outputs": [
    {
     "data": {
      "image/png": "[encoded data removed]",
      "text/plain": [
       "<Figure size 1400x600 with 2 Axes>"
      ]
     },
     "metadata": {},
     "output_type": "display_data"
    }
   ],
   "source": [
    "# Plot the loss and accuracy\n",
    "plot_loss_accuracy(train_losses, train_accuracies, val_losses, val_accuracies, epochs)"
   ]
  },
  {
   "cell_type": "code",
   "execution_count": 113,
   "metadata": {},
   "outputs": [],
   "source": [
    "if not os.path.exists('COMP90086_2024_Project_test'):\n",
    "    # Get training data\n",
    "    file_id = '1zGQl6K0JiGfHeIINz5go3pUrExnniB-d'\n",
    "    url = f'https://drive.google.com/uc?id={file_id}'\n",
    "    gdown.download(url, 'test.zip', quiet=False)\n",
    "\n",
    "    # Unzip data\n",
    "    with zipfile.ZipFile('test.zip', 'r') as zip_ref:\n",
    "        tqdm(zip_ref.extractall('COMP90086_2024_Project_test'))  # specify your extraction directory\n",
    "\n",
    "    # Delete zip file\n",
    "    os.remove('test.zip')"
   ]
  },
  {
   "cell_type": "code",
   "execution_count": 114,
   "metadata": {},
   "outputs": [
    {
     "name": "stdout",
     "output_type": "stream",
     "text": [
      "1000 / 1920 : 525774\n",
      "1920 / 1920 : 999651\n"
     ]
    }
   ],
   "source": [
    "testPath = 'COMP90086_2024_Project_test'\n",
    "testFile = 'test.csv'\n",
    "\n",
    "test_filenames, _ = getFilenames(testPath, testFile, 'test')"
   ]
  },
  {
   "cell_type": "code",
   "execution_count": 115,
   "metadata": {},
   "outputs": [],
   "source": [
    "class TestDataset(Dataset):\n",
    "    def __init__(self, filenames):\n",
    "        self.filenames = filenames\n",
    "        self.transform = transforms.Compose([\n",
    "            transforms.ToTensor(),                     # Convert to tensor\n",
    "            transforms.Normalize((0.5, 0.5, 0.5), (0.5, 0.5, 0.5))  # Normalize\n",
    "        ])\n",
    "\n",
    "    def __len__(self):\n",
    "        return len(self.filenames)\n",
    "\n",
    "    def __getitem__(self, idx):\n",
    "        # Load image using OpenCV\n",
    "        image = cv2.imread(self.filenames[idx])\n",
    "        image = cv2.cvtColor(image, cv2.COLOR_BGR2RGB)  # Convert from BGR to RGB\n",
    "        image = cv2.resize(image, (2 * imsize, imsize))  # Resize the image\n",
    "\n",
    "        # Convert the image to a tensor and normalize\n",
    "        image = self.transform(image / 255.0)  # Normalize to [0, 1] range before converting to tensor\n",
    "\n",
    "        return image"
   ]
  },
  {
   "cell_type": "code",
   "execution_count": 116,
   "metadata": {},
   "outputs": [],
   "source": [
    "# Create test dataset and dataloader\n",
    "test_dataset = TestDataset(test_filenames)\n",
    "test_loader = DataLoader(test_dataset, batch_size=batch_size, shuffle=False, num_workers=4)"
   ]
  },
  {
   "cell_type": "code",
   "execution_count": 117,
   "metadata": {},
   "outputs": [],
   "source": [
    "# Set model to evaluation mode\n",
    "model.eval()\n",
    "\n",
    "# Store predictions\n",
    "predictions = []\n",
    "\n",
    "# No need to calculate gradients during inference\n",
    "with torch.no_grad():\n",
    "    for images in test_loader:\n",
    "        images = images.to(device)\n",
    "        images = images.float()  # Ensure the input is of type float32\n",
    "        outputs = model(images)\n",
    "        _, predicted = torch.max(outputs, 1)  # Get the index of the highest score\n",
    "        predictions.extend(predicted.cpu().numpy())  # Store the predictions\n",
    "\n",
    "# Now `predictions` will contain the predicted labels for the test images\n"
   ]
  },
  {
   "cell_type": "code",
   "execution_count": 118,
   "metadata": {},
   "outputs": [
    {
     "data": {
      "text/plain": [
       "0    1600\n",
       "1     320\n",
       "Name: count, dtype: int64"
      ]
     },
     "execution_count": 118,
     "metadata": {},
     "output_type": "execute_result"
    }
   ],
   "source": [
    "pd.Series(predictions).value_counts()"
   ]
  },
  {
   "cell_type": "code",
   "execution_count": 121,
   "metadata": {},
   "outputs": [],
   "source": [
    "test_path = os.path.join(testPath, testFile)\n",
    "test_pred = pd.read_csv(test_path)\n",
    "test_pred['stable_height'] = predictions\n",
    "test_pred.set_index('id').to_csv('predictions.csv')"
   ]
  }
 ],
 "metadata": {
  "kernelspec": {
   "display_name": "Python 3 (ipykernel)",
   "language": "python",
   "name": "python3"
  },
  "language_info": {
   "codemirror_mode": {
    "name": "ipython",
    "version": 3
   },
   "file_extension": ".py",
   "mimetype": "text/x-python",
   "name": "python",
   "nbconvert_exporter": "python",
   "pygments_lexer": "ipython3",
   "version": "3.10.13"
  }
 },
 "nbformat": 4,
 "nbformat_minor": 4
}
