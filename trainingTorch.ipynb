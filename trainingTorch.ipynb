{
 "cells": [
  {
   "attachments": {},
   "cell_type": "markdown",
   "metadata": {},
   "source": [
    "We use the two different subsets of ShapeStacks during training (cf. Table 1), each one containing an equal amount of stable and unstable images. Both types of violations (VCOM and VPSF, cf. Section 3.2) are evenly represented among unstable images.  \n",
    "\n",
    "During training, we augment the training images by randomising colours, varying aspect-ratios, and applying random cropping, vertical flipping and minimal in-plane rotation. We ensure that all data augmentations still yield physically plausible, upright towers."
   ]
  },
  {
   "cell_type": "code",
   "execution_count": 1,
   "metadata": {},
   "outputs": [],
   "source": [
    "# %pip install opencv-python tensorflow pandas matplotlib gdown\n",
    "# %pip install scikit-learn\n",
    "# %pip install timm\n",
    "## If OpenCV does not work - Run the following command in the terminal\n",
    "# sudo apt-get install python3-opencv"
   ]
  },
  {
   "cell_type": "code",
   "execution_count": 2,
   "metadata": {},
   "outputs": [],
   "source": [
    "import gdown\n",
    "import zipfile\n",
    "import os\n",
    "\n",
    "if not os.path.exists('COMP90086_2024_Project_train'):\n",
    "    # Get training data\n",
    "    file_id = '1VzGFCjc-XAHNK0ujkuGEg7E-idV7QhDv'\n",
    "    url = f'https://drive.google.com/uc?id={file_id}'\n",
    "    gdown.download(url, 'train.zip', quiet=False)\n",
    "    \n",
    "    # Unzip data\n",
    "    with zipfile.ZipFile('train.zip', 'r') as zip_ref:\n",
    "        zip_ref.extractall('COMP90086_2024_Project_train')  # specify your extraction directory\n",
    "\n",
    "    # Delete zip file\n",
    "    os.remove('train.zip')"
   ]
  },
  {
   "cell_type": "code",
   "execution_count": 3,
   "metadata": {},
   "outputs": [],
   "source": [
    "import cv2\n",
    "from collections import Counter\n",
    "import matplotlib.pyplot as plt\n",
    "import pandas as pd\n",
    "import numpy as np\n",
    "import random\n",
    "\n",
    "# Define your image size and channels\n",
    "imsize = 224"
   ]
  },
  {
   "cell_type": "code",
   "execution_count": 4,
   "metadata": {},
   "outputs": [],
   "source": [
    "# Function to get filenames and labels\n",
    "def getFilenames(rootpath, file, ds = 'train'):\n",
    "    # Lists to store file data\n",
    "    filenames = []\n",
    "    labels = []\n",
    "    # List file parameters\n",
    "    meta_list_file = os.path.join(rootpath, file)\n",
    "    with open(meta_list_file) as f:\n",
    "        meta_list = f.read().split('\\n')\n",
    "        meta_list.pop(0) # remove trailing empty line\n",
    "        meta_list.pop(-1)\n",
    "\n",
    "    for i, meta in enumerate(meta_list):\n",
    "        if (i+1) % 1000 == 0 or i+1 == len(meta_list):\n",
    "            print(\"%s / %s : %s\" % (i+1, len(meta_list), meta))\n",
    "        rec = meta.split(',')\n",
    "        filenames.append(os.path.join(rootpath, ds, rec[0]+'.jpg'))\n",
    "        if ds == 'train':\n",
    "            try:\n",
    "                # stable_height (integer) = the stable height of the stack\n",
    "                labels.extend(rec[6])\n",
    "            except:\n",
    "                print(rec)\n",
    "    return filenames, labels"
   ]
  },
  {
   "cell_type": "code",
   "execution_count": 5,
   "metadata": {},
   "outputs": [
    {
     "name": "stdout",
     "output_type": "stream",
     "text": [
      "1000 / 7680 : 131545,2,2,5,0,1,5\n",
      "2000 / 7680 : 266662,2,1,2,1,1,1\n",
      "3000 / 7680 : 394858,1,2,5,0,1,5\n",
      "4000 / 7680 : 523454,1,1,6,1,2,2\n",
      "5000 / 7680 : 661586,2,2,4,1,2,2\n",
      "6000 / 7680 : 789513,1,2,6,1,1,1\n",
      "7000 / 7680 : 912435,2,2,6,2,1,2\n",
      "7680 / 7680 : 999668,1,2,4,1,2,3\n"
     ]
    },
    {
     "data": {
      "text/plain": [
       "0\n",
       "1    1920\n",
       "2    1920\n",
       "3    1536\n",
       "4    1152\n",
       "5     768\n",
       "6     384\n",
       "Name: count, dtype: int64"
      ]
     },
     "execution_count": 5,
     "metadata": {},
     "output_type": "execute_result"
    }
   ],
   "source": [
    "trainPath = 'COMP90086_2024_Project_train'\n",
    "trainFile = 'train.csv'\n",
    "\n",
    "filenames, labels = getFilenames(trainPath, trainFile)\n",
    "labels = np.array(labels).astype(int).tolist()\n",
    "pd.DataFrame(labels).value_counts()"
   ]
  },
  {
   "cell_type": "code",
   "execution_count": 6,
   "metadata": {},
   "outputs": [],
   "source": [
    "import torch\n",
    "import torchvision.models as models\n",
    "import timm\n",
    "import torch.nn as nn\n",
    "import torch.nn.functional as F\n",
    "from torchvision import transforms\n",
    "from torch.utils.data import Dataset, DataLoader\n",
    "import torch\n",
    "from torch.utils.data import DataLoader, TensorDataset\n",
    "import torch.optim as optim\n",
    "from tqdm import tqdm  # For progress bar\n",
    "# Set device for training (GPU or CPU)\n",
    "device = torch.device('cuda' if torch.cuda.is_available() else 'cpu')"
   ]
  },
  {
   "cell_type": "code",
   "execution_count": 159,
   "metadata": {},
   "outputs": [],
   "source": [
    "# Function to augment the images for block stability\n",
    "def augment_image_cv2(image):\n",
    "    # Random horizontal flip (optional)\n",
    "    if random.random() > 0.5:\n",
    "        image = cv2.flip(image, 1)\n",
    "\n",
    "    # Random brightness adjustment\n",
    "    brightness_factor = random.uniform(0.8, 1.2)  # Slightly wider range\n",
    "    image = np.clip(image * brightness_factor, 0, 255).astype(np.uint8)\n",
    "\n",
    "    # Random contrast adjustment\n",
    "    if random.random() > 0.5:\n",
    "        alpha = random.uniform(0.7, 1.3)  # Contrast factor\n",
    "        image = np.clip(alpha * image, 0, 255).astype(np.uint8)\n",
    "\n",
    "    # Random saturation adjustment\n",
    "    if random.random() > 0.5:\n",
    "        hsv_image = cv2.cvtColor(image, cv2.COLOR_BGR2HSV)\n",
    "        hsv_image[:, :, 1] = hsv_image[:, :, 1] * random.uniform(0.7, 1.3)  # Adjust saturation\n",
    "        hsv_image[:, :, 1] = np.clip(hsv_image[:, :, 1], 0, 255)\n",
    "        image = cv2.cvtColor(hsv_image, cv2.COLOR_HSV2BGR)\n",
    "\n",
    "    # Random brightness and contrast adjustment\n",
    "    if random.random() > 0.5:\n",
    "        beta = random.randint(-10, 10)  # Brightness offset\n",
    "        image = np.clip(image + beta, 0, 255).astype(np.uint8)\n",
    "\n",
    "    # Add Gaussian noise\n",
    "    if random.random() > 0.5:  # Chance to add noise\n",
    "        noise = np.random.randn(*image.shape) * 4.0  # Adjusted stddev\n",
    "        image = np.clip(image + noise, 0, 255).astype(np.uint8)\n",
    "\n",
    "    # Random rotation\n",
    "    if random.random() > 0.5:\n",
    "        angle = random.uniform(-10, 10)  # Rotation angle\n",
    "        h, w = image.shape[:2]\n",
    "        M = cv2.getRotationMatrix2D((w // 2, h // 2), angle, 1.0)\n",
    "        image = cv2.warpAffine(image, M, (w, h))\n",
    "\n",
    "    return image"
   ]
  },
  {
   "cell_type": "code",
   "execution_count": 160,
   "metadata": {},
   "outputs": [],
   "source": [
    "# Function to balance dataset by augmenting all minority classes and saving augmented images\n",
    "def balance_classes(filenames, labels, output_folder='augmented_images'):\n",
    "    \"\"\" Balance the dataset by augmenting all minority classes \"\"\"\n",
    "    class_counts = Counter(labels)\n",
    "    max_class_count = max(class_counts.values())\n",
    "\n",
    "    # Create output folder for augmented images\n",
    "    os.makedirs(output_folder, exist_ok=True)\n",
    "\n",
    "    # Initialize lists to store new filenames and labels\n",
    "    balanced_filenames = []\n",
    "    balanced_labels = []\n",
    "\n",
    "    # Loop over each class and balance it\n",
    "    for class_label, count in class_counts.items():\n",
    "        class_filenames = [fname for fname, label in zip(filenames, labels) if label == class_label]\n",
    "        balanced_filenames.extend(class_filenames)\n",
    "        balanced_labels.extend([class_label] * len(class_filenames))\n",
    "\n",
    "        # Calculate how many more samples are needed to balance the dataset\n",
    "        difference = max_class_count - count\n",
    "        augmented_filenames = []\n",
    "        augmented_labels = []\n",
    "\n",
    "        # Augment the minority class images and save them to the new folder\n",
    "        while difference > 0:\n",
    "            for fname in class_filenames:\n",
    "                image = cv2.imread(fname)\n",
    "                augmented_image = augment_image_cv2(image)\n",
    "\n",
    "                # Create a new filename for the augmented image\n",
    "                base_name = os.path.basename(fname)\n",
    "                new_filename = os.path.join(output_folder, f'aug_{difference}_{base_name}')\n",
    "\n",
    "                # Save the augmented image\n",
    "                cv2.imwrite(new_filename, augmented_image)\n",
    "\n",
    "                augmented_filenames.append(new_filename)  # Store the new filename\n",
    "                augmented_labels.append(class_label)\n",
    "                difference -= 1\n",
    "                if difference <= 0:\n",
    "                    break\n",
    "\n",
    "        # Add augmented images and labels to the dataset\n",
    "        balanced_filenames.extend(augmented_filenames)\n",
    "        balanced_labels.extend(augmented_labels)\n",
    "\n",
    "    return balanced_filenames, balanced_labels"
   ]
  },
  {
   "cell_type": "code",
   "execution_count": 161,
   "metadata": {},
   "outputs": [
    {
     "name": "stdout",
     "output_type": "stream",
     "text": [
      "Training dataset:\t\t Counter({2: 1344, 1: 1344, 3: 1075, 4: 806, 5: 538, 6: 269})\n",
      "\n",
      "Balanced Training dataset:\t Counter({3: 1344, 2: 1344, 1: 1344, 5: 1344, 4: 1344, 6: 1344})\n",
      "Validation dataset:\t\t Counter({1: 576, 2: 576, 3: 461, 4: 346, 5: 230, 6: 115})\n"
     ]
    }
   ],
   "source": [
    "from sklearn.model_selection import train_test_split\n",
    "# Split the dataset into training and validation sets\n",
    "train_filenames, val_filenames, train_labels, val_labels = train_test_split(\n",
    "    filenames, labels, test_size=0.2, stratify=labels, random_state=42)\n",
    "\n",
    "# Balance the training dataset by augmenting the minority class\n",
    "train_balanced_filenames, train_balanced_labels = balance_classes(train_filenames, train_labels)\n",
    "\n",
    "print(f'Training dataset:\\t\\t {Counter(train_labels)}')\n",
    "print()\n",
    "print(f'Balanced Training dataset:\\t {Counter(train_balanced_labels)}')\n",
    "print(f'Validation dataset:\\t\\t {Counter(val_labels)}')"
   ]
  },
  {
   "cell_type": "code",
   "execution_count": 162,
   "metadata": {},
   "outputs": [],
   "source": [
    "# Custom Dataset class using OpenCV for image loading\n",
    "class CustomCV2Dataset(Dataset):\n",
    "    def __init__(self, filenames, labels):\n",
    "        self.filenames = filenames\n",
    "        self.labels = labels\n",
    "        self.transform = transforms.Compose([\n",
    "            transforms.ToTensor(),  # Convert to tensor\n",
    "            transforms.Normalize((0.5, 0.5, 0.5), (0.5, 0.5, 0.5))  # Normalize\n",
    "        ])\n",
    "\n",
    "    def __len__(self):\n",
    "        return len(self.filenames)\n",
    "\n",
    "    def __getitem__(self, idx):\n",
    "        # Load image using OpenCV\n",
    "        image = cv2.imread(self.filenames[idx])\n",
    "        image = cv2.cvtColor(image, cv2.COLOR_BGR2RGB)  # Convert from BGR to RGB\n",
    "\n",
    "        # Convert the image to tensor and normalize\n",
    "        image = self.transform(image)\n",
    "        label = self.labels[idx]\n",
    "        return image, label\n",
    "\n",
    "# Create datasets with balanced data\n",
    "# train_dataset = CustomCV2Dataset(train_filenames, train_labels)\n",
    "train_dataset = CustomCV2Dataset(train_balanced_filenames, train_balanced_labels)\n",
    "val_dataset = CustomCV2Dataset(val_filenames, val_labels)  # Use the original validation data\n",
    "\n",
    "# Create DataLoaders\n",
    "batch_size = 32\n",
    "train_loader = DataLoader(train_dataset, batch_size=batch_size, shuffle=True, num_workers=4)\n",
    "validation_loader = DataLoader(val_dataset, batch_size=batch_size, shuffle=False, num_workers=4)"
   ]
  },
  {
   "cell_type": "code",
   "execution_count": 105,
   "metadata": {},
   "outputs": [],
   "source": [
    "# # Model 1: Self made\n",
    "# class CNN(nn.Module):\n",
    "#     def __init__(self):\n",
    "#         super(CNN, self).__init__()\n",
    "\n",
    "#         # Convolutional layers\n",
    "#         self.conv1 = nn.Conv2d(in_channels=3, out_channels=32, kernel_size=5, stride=1, padding=2)  # Output: (32, 224, 224)\n",
    "#         self.conv2 = nn.Conv2d(in_channels=32, out_channels=64, kernel_size=5, stride=1, padding=2)  # Output: (64, 112, 112)\n",
    "#         self.conv3 = nn.Conv2d(in_channels=64, out_channels=128, kernel_size=3, stride=1, padding=1)  # Output: (128, 56, 56)\n",
    "        \n",
    "#         self.pool = nn.MaxPool2d(kernel_size=2, stride=2)  # Downsampling\n",
    "#         self.dropout = nn.Dropout(p=0.3)  # 30% dropout\n",
    "\n",
    "#         # Calculate the flattened size for the fully connected layers\n",
    "#         self.flattened_size = self._get_flattened_size()\n",
    "\n",
    "#         # Fully connected layers\n",
    "#         self.fc1 = nn.Linear(self.flattened_size, 512)  # First fully connected layer\n",
    "#         self.fc2 = nn.Linear(512, 256)  # Second fully connected layer\n",
    "#         self.fc3 = nn.Linear(256, 6)  # Output layer for 6 classes\n",
    "\n",
    "#         # Batch Normalization\n",
    "#         self.batch_norm1 = nn.BatchNorm1d(512)\n",
    "#         self.batch_norm2 = nn.BatchNorm1d(256)\n",
    "\n",
    "#     def _get_flattened_size(self):\n",
    "#         # Create a dummy tensor to calculate the flattened size\n",
    "#         with torch.no_grad():\n",
    "#             x = torch.zeros(1, 3, 224, 224)  # Example input with correct dimensions (3 channels)\n",
    "#             x = self.pool(F.relu(self.conv1(x)))  # Conv1 + ReLU + Max Pooling\n",
    "#             x = self.pool(F.relu(self.conv2(x)))  # Conv2 + ReLU + Max Pooling\n",
    "#             x = self.pool(F.relu(self.conv3(x)))  # Conv3 + ReLU + Max Pooling\n",
    "#             return x.numel()  # Get the number of elements in the output tensor\n",
    "\n",
    "#     def forward(self, x):\n",
    "#         x = self.pool(F.relu(self.conv1(x)))  # Conv1 + ReLU + Max Pooling\n",
    "#         x = self.dropout(x)  # Apply dropout during training\n",
    "#         x = self.pool(F.relu(self.conv2(x)))  # Conv2 + ReLU + Max Pooling\n",
    "#         x = self.dropout(x)  # Apply dropout during training\n",
    "#         x = self.pool(F.relu(self.conv3(x)))  # Conv3 + ReLU + Max Pooling\n",
    "#         x = x.view(x.size(0), -1)  # Flatten the output for fully connected layers\n",
    "        \n",
    "#         x = F.relu(self.fc1(x))  # First fully connected layer\n",
    "#         x = self.batch_norm1(x)  # Batch normalization\n",
    "#         x = self.dropout(x)  # Apply dropout during training\n",
    "        \n",
    "#         x = F.relu(self.fc2(x))  # Second fully connected layer\n",
    "#         x = self.batch_norm2(x)  # Batch normalization\n",
    "#         x = self.dropout(x)  # Apply dropout during training\n",
    "        \n",
    "#         x = self.fc3(x)  # Final output layer\n",
    "#         return x"
   ]
  },
  {
   "cell_type": "code",
   "execution_count": 153,
   "metadata": {},
   "outputs": [],
   "source": [
    "## Model 2: EfficientNet\n",
    "# class CNN(nn.Module):\n",
    "#     def __init__(self, num_classes=6):\n",
    "#         super(CNN, self).__init__()\n",
    "        \n",
    "#         # Load the pre-trained EfficientNet-B0 model\n",
    "#         self.efficientnet = timm.create_model('efficientnet_b0', pretrained=True)\n",
    "        \n",
    "#         # Replace the classifier layer with a new one\n",
    "#         self.efficientnet.classifier = nn.Linear(self.efficientnet.classifier.in_features, num_classes)\n",
    "\n",
    "#         # Regularization\n",
    "#         self.dropout = nn.Dropout(p=0.3)\n",
    "        \n",
    "#     def forward(self, x):\n",
    "#         x = self.efficientnet(x)\n",
    "#         x= self.dropout(x)\n",
    "#         return x"
   ]
  },
  {
   "cell_type": "code",
   "execution_count": null,
   "metadata": {},
   "outputs": [],
   "source": [
    "# # Model 3: inception_v4 (Best Performer)\n",
    "# class CNN(nn.Module):\n",
    "#     def __init__(self, num_classes=6):\n",
    "#         super(CNN, self).__init__()\n",
    "        \n",
    "#         # Load the pre-trained Inception v3 model\n",
    "#         self.inception = models.inception_v3(weights='IMAGENET1K_V1', aux_logits=True)  # aux_logits=False for simplicity\n",
    "        \n",
    "#         # Replace the final fully connected layer\n",
    "#         self.inception.fc = nn.Linear(self.inception.fc.in_features, num_classes)\n",
    "\n",
    "#     def forward(self, x):\n",
    "#         # Ensure input is resized to (299, 299) for Inception v3\n",
    "#         x = nn.functional.interpolate(x, size=(299, 299), mode='bilinear', align_corners=False)\n",
    "        \n",
    "#         # Forward pass through the Inception model\n",
    "#         outputs = self.inception(x)\n",
    "#         return outputs  # Only return the main output tensor"
   ]
  },
  {
   "cell_type": "code",
   "execution_count": 201,
   "metadata": {},
   "outputs": [],
   "source": [
    "## Model 4: inception_v4\n",
    "class CNN(nn.Module):\n",
    "    def __init__(self, num_classes=6):\n",
    "        super(CNN, self).__init__()\n",
    "        self.inception = timm.create_model(\"inception_resnet_v2\", pretrained=True, num_classes=num_classes)\n",
    "\n",
    "    def forward(self, x):\n",
    "        x = nn.functional.interpolate(x, size=(299, 299), mode='bilinear', align_corners=False)\n",
    "        outputs = self.inception(x)  # No need for .logits with timm models\n",
    "        return outputs"
   ]
  },
  {
   "cell_type": "code",
   "execution_count": 202,
   "metadata": {},
   "outputs": [],
   "source": [
    "# Function to train the model\n",
    "def train_model(model, train_loader, val_loader, criterion, optimizer, epochs):\n",
    "    train_losses = []\n",
    "    train_accuracies = []\n",
    "    val_losses = []\n",
    "    val_accuracies = []\n",
    "\n",
    "    for epoch in range(epochs):\n",
    "        model.train()  # Set model to training mode\n",
    "        running_loss = 0.0\n",
    "        correct = 0\n",
    "        total = 0\n",
    "        \n",
    "        # Iterate over training data\n",
    "        for images, labels in tqdm(train_loader, desc=f\"Training Epoch {epoch+1}/{epochs}\"):\n",
    "            images, labels = images.to(device), labels.to(device).long()  # Move data to device\n",
    "\n",
    "            # Adjust labels to start at 0\n",
    "            labels = labels - 1  # Now labels range from 0 to 5\n",
    "            \n",
    "            optimizer.zero_grad()  # Zero the gradients\n",
    "            outputs = model(images)  # Forward pass\n",
    "            # outputs = outputs[0] # Only for inception v3\n",
    "            loss = criterion(outputs, labels)  # Calculate loss\n",
    "            loss.backward()  # Backward pass\n",
    "            optimizer.step()  # Optimize the model parameters\n",
    "            \n",
    "            running_loss += loss.item()  # Accumulate loss\n",
    "            _, predicted = torch.max(outputs.data, 1)  # Get the predicted classes\n",
    "            total += labels.size(0)  # Total samples\n",
    "            correct += (predicted == labels).sum().item()  # Correct predictions\n",
    "\n",
    "        # Calculate average loss and accuracy\n",
    "        epoch_loss = running_loss / len(train_loader)\n",
    "        epoch_accuracy = correct / total\n",
    "        train_losses.append(epoch_loss)\n",
    "        train_accuracies.append(epoch_accuracy)\n",
    "\n",
    "        print(f\"Epoch [{epoch+1}/{epochs}], Loss: {epoch_loss:.4f}, Accuracy: {epoch_accuracy:.4f}\")\n",
    "\n",
    "        # Validation\n",
    "        model.eval()  # Set model to evaluation mode\n",
    "        val_loss = 0.0\n",
    "        val_correct = 0\n",
    "        val_total = 0\n",
    "        \n",
    "        with torch.no_grad():  # No gradient calculation in validation\n",
    "            for val_images, val_labels in val_loader:\n",
    "                val_images, val_labels = val_images.to(device), val_labels.to(device).long()\n",
    "                \n",
    "                # Adjust labels to start at 0\n",
    "                val_labels = val_labels - 1  # Now labels range from 0 to 5\n",
    "            \n",
    "                val_outputs = model(val_images)\n",
    "                loss = criterion(val_outputs, val_labels)\n",
    "                val_loss += loss.item()\n",
    "                _, val_predicted = torch.max(val_outputs.data, 1)\n",
    "                val_total += val_labels.size(0)\n",
    "                val_correct += (val_predicted == val_labels).sum().item()\n",
    "\n",
    "        # Calculate validation loss and accuracy\n",
    "        val_loss /= len(val_loader)\n",
    "        val_accuracy = val_correct / val_total\n",
    "        val_losses.append(val_loss)\n",
    "        val_accuracies.append(val_accuracy)\n",
    "        \n",
    "        print(f\"Validation Loss: {val_loss:.4f}, Validation Accuracy: {val_accuracy:.4f}\")\n",
    "\n",
    "    return train_losses, train_accuracies, val_losses, val_accuracies"
   ]
  },
  {
   "cell_type": "code",
   "execution_count": 203,
   "metadata": {},
   "outputs": [],
   "source": [
    "import matplotlib.pyplot as plt\n",
    "\n",
    "# Function to plot loss and accuracy\n",
    "def plot_loss_accuracy(train_losses, train_accuracies, val_losses, val_accuracies, epochs):\n",
    "    epochs_range = range(1, epochs + 1)\n",
    "    \n",
    "    # Plot Loss\n",
    "    plt.figure(figsize=(14, 6))\n",
    "    \n",
    "    plt.subplot(1, 2, 1)\n",
    "    plt.plot(epochs_range, train_losses, label='Training Loss', color='blue')\n",
    "    plt.plot(epochs_range, val_losses, label='Validation Loss', color='orange')\n",
    "    plt.title('Loss Curve')\n",
    "    plt.xlabel('Epochs')\n",
    "    plt.ylabel('Loss')\n",
    "    plt.legend()\n",
    "    \n",
    "    # Plot Accuracy\n",
    "    plt.subplot(1, 2, 2)\n",
    "    plt.plot(epochs_range, train_accuracies, label='Training Accuracy', color='blue')\n",
    "    plt.plot(epochs_range, val_accuracies, label='Validation Accuracy', color='orange')\n",
    "    plt.title('Accuracy Curve')\n",
    "    plt.xlabel('Epochs')\n",
    "    plt.ylabel('Accuracy')\n",
    "    plt.legend()\n",
    "    \n",
    "    plt.tight_layout()\n",
    "    plt.show()\n"
   ]
  },
  {
   "cell_type": "code",
   "execution_count": 204,
   "metadata": {},
   "outputs": [],
   "source": [
    "# Calculate class weights\n",
    "class_counts = torch.tensor([1920, 5760], dtype=torch.float32)\n",
    "class_weights = 1.0 / class_counts\n",
    "\n",
    "# Assign class weights to the loss function\n",
    "weights = class_weights.to(device)  # Move to device if using GPU"
   ]
  },
  {
   "cell_type": "code",
   "execution_count": null,
   "metadata": {},
   "outputs": [
    {
     "data": {
      "application/vnd.jupyter.widget-view+json": {
       "model_id": "6412174ac98448838606bb0bed1902d9",
       "version_major": 2,
       "version_minor": 0
      },
      "text/plain": [
       "model.safetensors:   0%|          | 0.00/224M [00:00<?, ?B/s]"
      ]
     },
     "metadata": {},
     "output_type": "display_data"
    },
    {
     "name": "stderr",
     "output_type": "stream",
     "text": [
      "Training Epoch 1/20: 100%|██████████| 252/252 [00:36<00:00,  6.86it/s]"
     ]
    },
    {
     "name": "stdout",
     "output_type": "stream",
     "text": [
      "Epoch [1/20], Loss: 1.4789, Accuracy: 0.3497\n"
     ]
    },
    {
     "name": "stderr",
     "output_type": "stream",
     "text": [
      "\n"
     ]
    },
    {
     "name": "stdout",
     "output_type": "stream",
     "text": [
      "Validation Loss: 1.5644, Validation Accuracy: 0.3507\n"
     ]
    },
    {
     "name": "stderr",
     "output_type": "stream",
     "text": [
      "Training Epoch 2/20: 100%|██████████| 252/252 [00:36<00:00,  6.85it/s]"
     ]
    },
    {
     "name": "stdout",
     "output_type": "stream",
     "text": [
      "Epoch [2/20], Loss: 1.2499, Accuracy: 0.4854\n"
     ]
    },
    {
     "name": "stderr",
     "output_type": "stream",
     "text": [
      "\n"
     ]
    },
    {
     "name": "stdout",
     "output_type": "stream",
     "text": [
      "Validation Loss: 1.2893, Validation Accuracy: 0.4223\n"
     ]
    },
    {
     "name": "stderr",
     "output_type": "stream",
     "text": [
      "Training Epoch 3/20: 100%|██████████| 252/252 [00:37<00:00,  6.70it/s]"
     ]
    },
    {
     "name": "stdout",
     "output_type": "stream",
     "text": [
      "Epoch [3/20], Loss: 1.0882, Accuracy: 0.5562\n"
     ]
    },
    {
     "name": "stderr",
     "output_type": "stream",
     "text": [
      "\n"
     ]
    },
    {
     "name": "stdout",
     "output_type": "stream",
     "text": [
      "Validation Loss: 1.2353, Validation Accuracy: 0.5109\n"
     ]
    },
    {
     "name": "stderr",
     "output_type": "stream",
     "text": [
      "Training Epoch 4/20: 100%|██████████| 252/252 [00:36<00:00,  6.87it/s]"
     ]
    },
    {
     "name": "stdout",
     "output_type": "stream",
     "text": [
      "Epoch [4/20], Loss: 0.9266, Accuracy: 0.6350\n"
     ]
    },
    {
     "name": "stderr",
     "output_type": "stream",
     "text": [
      "\n"
     ]
    },
    {
     "name": "stdout",
     "output_type": "stream",
     "text": [
      "Validation Loss: 1.4273, Validation Accuracy: 0.4878\n"
     ]
    },
    {
     "name": "stderr",
     "output_type": "stream",
     "text": [
      "Training Epoch 5/20: 100%|██████████| 252/252 [00:36<00:00,  6.88it/s]"
     ]
    },
    {
     "name": "stdout",
     "output_type": "stream",
     "text": [
      "Epoch [5/20], Loss: 0.7993, Accuracy: 0.6923\n"
     ]
    },
    {
     "name": "stderr",
     "output_type": "stream",
     "text": [
      "\n"
     ]
    },
    {
     "name": "stdout",
     "output_type": "stream",
     "text": [
      "Validation Loss: 1.1189, Validation Accuracy: 0.5855\n"
     ]
    },
    {
     "name": "stderr",
     "output_type": "stream",
     "text": [
      "Training Epoch 6/20: 100%|██████████| 252/252 [00:36<00:00,  6.86it/s]"
     ]
    },
    {
     "name": "stdout",
     "output_type": "stream",
     "text": [
      "Epoch [6/20], Loss: 0.6622, Accuracy: 0.7519\n"
     ]
    },
    {
     "name": "stderr",
     "output_type": "stream",
     "text": [
      "\n"
     ]
    },
    {
     "name": "stdout",
     "output_type": "stream",
     "text": [
      "Validation Loss: 1.1185, Validation Accuracy: 0.5829\n"
     ]
    },
    {
     "name": "stderr",
     "output_type": "stream",
     "text": [
      "Training Epoch 7/20: 100%|██████████| 252/252 [00:36<00:00,  6.86it/s]"
     ]
    },
    {
     "name": "stdout",
     "output_type": "stream",
     "text": [
      "Epoch [7/20], Loss: 0.5541, Accuracy: 0.7964\n"
     ]
    },
    {
     "name": "stderr",
     "output_type": "stream",
     "text": [
      "\n"
     ]
    },
    {
     "name": "stdout",
     "output_type": "stream",
     "text": [
      "Validation Loss: 1.1345, Validation Accuracy: 0.5773\n"
     ]
    },
    {
     "name": "stderr",
     "output_type": "stream",
     "text": [
      "Training Epoch 8/20: 100%|██████████| 252/252 [00:36<00:00,  6.87it/s]"
     ]
    },
    {
     "name": "stdout",
     "output_type": "stream",
     "text": [
      "Epoch [8/20], Loss: 0.4248, Accuracy: 0.8461\n"
     ]
    },
    {
     "name": "stderr",
     "output_type": "stream",
     "text": [
      "\n"
     ]
    },
    {
     "name": "stdout",
     "output_type": "stream",
     "text": [
      "Validation Loss: 1.1894, Validation Accuracy: 0.5907\n"
     ]
    },
    {
     "name": "stderr",
     "output_type": "stream",
     "text": [
      "Training Epoch 9/20: 100%|██████████| 252/252 [00:36<00:00,  6.82it/s]"
     ]
    },
    {
     "name": "stdout",
     "output_type": "stream",
     "text": [
      "Epoch [9/20], Loss: 0.3513, Accuracy: 0.8762\n"
     ]
    },
    {
     "name": "stderr",
     "output_type": "stream",
     "text": [
      "\n"
     ]
    },
    {
     "name": "stdout",
     "output_type": "stream",
     "text": [
      "Validation Loss: 1.4223, Validation Accuracy: 0.5920\n"
     ]
    },
    {
     "name": "stderr",
     "output_type": "stream",
     "text": [
      "Training Epoch 10/20: 100%|██████████| 252/252 [00:37<00:00,  6.73it/s]"
     ]
    },
    {
     "name": "stdout",
     "output_type": "stream",
     "text": [
      "Epoch [10/20], Loss: 0.2743, Accuracy: 0.9033\n"
     ]
    },
    {
     "name": "stderr",
     "output_type": "stream",
     "text": [
      "\n"
     ]
    },
    {
     "name": "stdout",
     "output_type": "stream",
     "text": [
      "Validation Loss: 1.6348, Validation Accuracy: 0.5760\n"
     ]
    },
    {
     "name": "stderr",
     "output_type": "stream",
     "text": [
      "Training Epoch 11/20:  56%|█████▋    | 142/252 [00:21<00:15,  6.90it/s]"
     ]
    }
   ],
   "source": [
    "# Instantiate the model\n",
    "model = CNN()\n",
    "# Move the model to the appropriate device\n",
    "model.to(device)\n",
    "\n",
    "# Define the loss function and optimizer\n",
    "criterion = nn.CrossEntropyLoss()  # Loss function for multi-class classification\n",
    "optimizer = optim.Adam(model.parameters(), lr=0.001)  # Adam optimizer with learning rate 0.001\n",
    "\n",
    "# Training parameters\n",
    "epochs = 20\n",
    "\n",
    "# Train the model\n",
    "train_losses, train_accuracies, val_losses, val_accuracies = train_model(model, train_loader, validation_loader, criterion, optimizer, epochs)"
   ]
  },
  {
   "cell_type": "code",
   "execution_count": 200,
   "metadata": {},
   "outputs": [
    {
     "data": {
      "image/png": "[encoded data removed]",
      "text/plain": [
       "<Figure size 1400x600 with 2 Axes>"
      ]
     },
     "metadata": {},
     "output_type": "display_data"
    }
   ],
   "source": [
    "# Plot the loss and accuracy\n",
    "plot_loss_accuracy(train_losses, train_accuracies, val_losses, val_accuracies, epochs)"
   ]
  },
  {
   "cell_type": "code",
   "execution_count": 86,
   "metadata": {},
   "outputs": [],
   "source": [
    "if not os.path.exists('COMP90086_2024_Project_test'):\n",
    "    # Get training data\n",
    "    file_id = '1zGQl6K0JiGfHeIINz5go3pUrExnniB-d'\n",
    "    url = f'https://drive.google.com/uc?id={file_id}'\n",
    "    gdown.download(url, 'test.zip', quiet=False)\n",
    "\n",
    "    # Unzip data\n",
    "    with zipfile.ZipFile('test.zip', 'r') as zip_ref:\n",
    "        tqdm(zip_ref.extractall('COMP90086_2024_Project_test'))  # specify your extraction directory\n",
    "\n",
    "    # Delete zip file\n",
    "    os.remove('test.zip')"
   ]
  },
  {
   "cell_type": "code",
   "execution_count": 87,
   "metadata": {},
   "outputs": [
    {
     "name": "stdout",
     "output_type": "stream",
     "text": [
      "1000 / 1920 : 525774\n",
      "1920 / 1920 : 999651\n"
     ]
    }
   ],
   "source": [
    "testPath = 'COMP90086_2024_Project_test'\n",
    "testFile = 'test.csv'\n",
    "\n",
    "test_filenames, _ = getFilenames(testPath, testFile, 'test')"
   ]
  },
  {
   "cell_type": "code",
   "execution_count": 88,
   "metadata": {},
   "outputs": [],
   "source": [
    "# Create test dataset and dataloader\n",
    "test_dataset = CustomCV2Dataset(test_filenames, [1] * len(test_filenames))  # Use the original validation data\n",
    "test_loader = DataLoader(test_dataset, batch_size=batch_size, shuffle=False, num_workers=4)"
   ]
  },
  {
   "cell_type": "code",
   "execution_count": 89,
   "metadata": {},
   "outputs": [],
   "source": [
    "# Set model to evaluation mode\n",
    "model.eval()\n",
    "\n",
    "# Store predictions\n",
    "predictions = []\n",
    "\n",
    "# No need to calculate gradients during inference\n",
    "with torch.no_grad():\n",
    "    for images, _ in test_loader:\n",
    "        images = images.to(device)\n",
    "        images = images.float()  # Ensure the input is of type float32\n",
    "        outputs = model(images)\n",
    "        _, predicted = torch.max(outputs, 1)  # Get the index of the highest score\n",
    "        predicted = predicted + 1\n",
    "        predictions.extend(predicted.cpu().numpy())  # Store the predictions\n",
    "\n",
    "# Now `predictions` will contain the predicted labels for the test images"
   ]
  },
  {
   "cell_type": "code",
   "execution_count": 90,
   "metadata": {},
   "outputs": [
    {
     "data": {
      "text/plain": [
       "1    523\n",
       "2    446\n",
       "3    354\n",
       "4    295\n",
       "5    212\n",
       "6     90\n",
       "Name: count, dtype: int64"
      ]
     },
     "execution_count": 90,
     "metadata": {},
     "output_type": "execute_result"
    }
   ],
   "source": [
    "pd.Series(predictions).value_counts()"
   ]
  },
  {
   "cell_type": "code",
   "execution_count": 91,
   "metadata": {},
   "outputs": [],
   "source": [
    "test_path = os.path.join(testPath, testFile)\n",
    "test_pred = pd.read_csv(test_path)\n",
    "test_pred['stable_height'] = predictions\n",
    "test_pred.set_index('id').to_csv('predictions.csv')"
   ]
  },
  {
   "cell_type": "code",
   "execution_count": null,
   "metadata": {},
   "outputs": [],
   "source": []
  }
 ],
 "metadata": {
  "kernelspec": {
   "display_name": "Python 3 (ipykernel)",
   "language": "python",
   "name": "python3"
  },
  "language_info": {
   "codemirror_mode": {
    "name": "ipython",
    "version": 3
   },
   "file_extension": ".py",
   "mimetype": "text/x-python",
   "name": "python",
   "nbconvert_exporter": "python",
   "pygments_lexer": "ipython3",
   "version": "3.10.13"
  }
 },
 "nbformat": 4,
 "nbformat_minor": 4
}
