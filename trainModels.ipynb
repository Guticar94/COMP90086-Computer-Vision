{
 "cells": [
  {
   "cell_type": "markdown",
   "id": "08dfa83b",
   "metadata": {},
   "source": [
    "We use the two different subsets of ShapeStacks during training (cf. Table 1), each one containing an equal amount of stable and unstable images. Both types of violations (VCOM and VPSF, cf. Section 3.2) are evenly represented among unstable images.\n",
    "\n",
    "During training, we augment the training images by randomising colours, varying aspect-ratios, and applying random cropping, vertical flipping and minimal in-plane rotation. We ensure that all data augmentations still yield physically plausible, upright towers.\n"
   ]
  },
  {
   "cell_type": "code",
   "execution_count": 1,
   "id": "97610fcd-74fd-42be-a67c-63cf079c4f1f",
   "metadata": {},
   "outputs": [],
   "source": [
    "import zipfile\n",
    "import os\n",
    "import cv2\n",
    "from collections import Counter\n",
    "import matplotlib.pyplot as plt\n",
    "import pandas as pd\n",
    "import numpy as np\n",
    "import random\n",
    "\n",
    "# Define your image size and channels\n",
    "imsize = 224"
   ]
  },
  {
   "cell_type": "code",
   "execution_count": 2,
   "id": "972c9011-4bab-49c6-8886-8b2d81996d4f",
   "metadata": {},
   "outputs": [],
   "source": [
    "def getFilenames(rootpath, file, ds = 'train'):\n",
    "    # Lists to store file data\n",
    "    filenames = []\n",
    "    labels = []\n",
    "    # List file parameters\n",
    "    meta_list_file = os.path.join(rootpath, file)\n",
    "    with open(meta_list_file) as f:\n",
    "        meta_list = f.read().split('\\n')\n",
    "        meta_list.pop(0) # remove trailing empty line\n",
    "        meta_list.pop(-1)\n",
    "\n",
    "    for i, meta in enumerate(meta_list):\n",
    "        if (i+1) % 1000 == 0 or i+1 == len(meta_list):\n",
    "            print(\"%s / %s : %s\" % (i+1, len(meta_list), meta))\n",
    "        rec = meta.split(',')\n",
    "        filenames.append(os.path.join(rootpath, ds, rec[0]+'.jpg'))\n",
    "        if ds == 'train':\n",
    "            try:\n",
    "                # stable_height (integer) = the stable height of the stack\n",
    "                labels.extend(rec[6])\n",
    "            except:\n",
    "                print(rec)\n",
    "    return filenames, labels"
   ]
  },
  {
   "cell_type": "code",
   "execution_count": 3,
   "id": "2baf8e22-5116-41c5-b799-a3e15bb5143b",
   "metadata": {},
   "outputs": [
    {
     "name": "stdout",
     "output_type": "stream",
     "text": [
      "1000 / 7680 : 131545,2,2,5,0,1,5\n",
      "2000 / 7680 : 266662,2,1,2,1,1,1\n",
      "3000 / 7680 : 394858,1,2,5,0,1,5\n",
      "4000 / 7680 : 523454,1,1,6,1,2,2\n",
      "5000 / 7680 : 661586,2,2,4,1,2,2\n",
      "6000 / 7680 : 789513,1,2,6,1,1,1\n",
      "7000 / 7680 : 912435,2,2,6,2,1,2\n",
      "7680 / 7680 : 999668,1,2,4,1,2,3\n"
     ]
    },
    {
     "data": {
      "text/plain": [
       "0\n",
       "1    1920\n",
       "2    1920\n",
       "3    1536\n",
       "4    1152\n",
       "5     768\n",
       "6     384\n",
       "Name: count, dtype: int64"
      ]
     },
     "execution_count": 3,
     "metadata": {},
     "output_type": "execute_result"
    }
   ],
   "source": [
    "trainPath = 'COMP90086_2024_Project_train'\n",
    "trainFile = 'train.csv'\n",
    "\n",
    "filenames, labels = getFilenames(trainPath, trainFile)\n",
    "labels = np.array(labels).astype(int).tolist()\n",
    "pd.DataFrame(labels).value_counts()"
   ]
  },
  {
   "cell_type": "code",
   "execution_count": 4,
   "id": "d68c2ab9-6151-46c3-a7bb-b96d52968c60",
   "metadata": {},
   "outputs": [
    {
     "data": {
      "image/png": "[encoded data removed]",
      "text/plain": [
       "<Figure size 800x600 with 1 Axes>"
      ]
     },
     "metadata": {},
     "output_type": "display_data"
    }
   ],
   "source": [
    "import matplotlib.pyplot as plt\n",
    "\n",
    "import pandas as pd\n",
    "\n",
    "# Assuming your `labels` array is already obtained\n",
    "labels = np.array(labels).astype(int).tolist()\n",
    "\n",
    "# Create a DataFrame and count the values\n",
    "label_counts = pd.DataFrame(labels).value_counts().reset_index(name='Count')\n",
    "label_counts.columns = ['Label', 'Count']\n",
    "\n",
    "# Visualize the distribution using a bar plot\n",
    "plt.figure(figsize=(8, 6))\n",
    "bars = plt.bar(label_counts['Label'], label_counts['Count'], color='skyblue', width=0.6)\n",
    "\n",
    "# Add the count values on top of each bar\n",
    "for bar in bars:\n",
    "    yval = bar.get_height()\n",
    "    plt.text(bar.get_x() + bar.get_width()/2, yval + 20, int(yval), ha='center', va='bottom')\n",
    "\n",
    "plt.title('Label Distribution in the Dataset')\n",
    "plt.xlabel('Label')\n",
    "plt.ylabel('Count')\n",
    "plt.xticks(rotation=0)\n",
    "plt.show()"
   ]
  },
  {
   "cell_type": "code",
   "execution_count": 5,
   "id": "1c9c25c0-4895-4c9c-9c4a-bab3372dac9d",
   "metadata": {},
   "outputs": [],
   "source": [
    "import torch\n",
    "import torchvision.models as models\n",
    "import torch.nn as nn\n",
    "import torch.nn.functional as F\n",
    "from torchvision import transforms\n",
    "from torch.utils.data import Dataset, DataLoader\n",
    "import torch\n",
    "from torch.utils.data import DataLoader, TensorDataset\n",
    "import torch.optim as optim\n",
    "import torchvision.models as models\n",
    "import timm\n",
    "from tqdm import tqdm  # For progress bar\n",
    "# Set device for training (GPU or CPU)\n",
    "device = torch.device('cuda' if torch.cuda.is_available() else 'cpu')"
   ]
  },
  {
   "cell_type": "code",
   "execution_count": 6,
   "id": "5fcb2855-7751-4ed1-a90b-c3db65caaf33",
   "metadata": {},
   "outputs": [],
   "source": [
    "# Function to augment the images for block stability\n",
    "def augment_image_cv2(image):\n",
    "    # Random horizontal flip (optional)\n",
    "    if random.random() > 0.5:\n",
    "        image = cv2.flip(image, 1)\n",
    "\n",
    "    # Random brightness adjustment\n",
    "    brightness_factor = random.uniform(0.8, 1.2)  # Slightly wider range\n",
    "    image = np.clip(image * brightness_factor, 0, 255).astype(np.uint8)\n",
    "\n",
    "    # Random contrast adjustment\n",
    "    if random.random() > 0.5:\n",
    "        alpha = random.uniform(0.7, 1.3)  # Contrast factor\n",
    "        image = np.clip(alpha * image, 0, 255).astype(np.uint8)\n",
    "\n",
    "    # Random saturation adjustment\n",
    "    if random.random() > 0.5:\n",
    "        hsv_image = cv2.cvtColor(image, cv2.COLOR_BGR2HSV)\n",
    "        hsv_image[:, :, 1] = hsv_image[:, :, 1] * random.uniform(0.7, 1.3)  # Adjust saturation\n",
    "        hsv_image[:, :, 1] = np.clip(hsv_image[:, :, 1], 0, 255)\n",
    "        image = cv2.cvtColor(hsv_image, cv2.COLOR_HSV2BGR)\n",
    "\n",
    "    # Random brightness and contrast adjustment\n",
    "    if random.random() > 0.5:\n",
    "        beta = random.randint(-10, 10)  # Brightness offset\n",
    "        image = np.clip(image + beta, 0, 255).astype(np.uint8)\n",
    "\n",
    "    # Add Gaussian noise\n",
    "    if random.random() > 0.5:  # Chance to add noise\n",
    "        noise = np.random.randn(*image.shape) * 4.0  # Adjusted stddev\n",
    "        image = np.clip(image + noise, 0, 255).astype(np.uint8)\n",
    "\n",
    "    # Random rotation\n",
    "    if random.random() > 0.5:\n",
    "        angle = random.uniform(-10, 10)  # Rotation angle\n",
    "        h, w = image.shape[:2]\n",
    "        M = cv2.getRotationMatrix2D((w // 2, h // 2), angle, 1.0)\n",
    "        image = cv2.warpAffine(image, M, (w, h))\n",
    "\n",
    "    return image"
   ]
  },
  {
   "cell_type": "code",
   "execution_count": 7,
   "id": "f107a125-fc23-4894-8948-330a018dce23",
   "metadata": {},
   "outputs": [],
   "source": [
    "def balance_classes(filenames, labels, output_folder='augmented_images'):\n",
    "    \"\"\" Balance the dataset by augmenting all minority classes \"\"\"\n",
    "    class_counts = Counter(labels)\n",
    "    max_class_count = max(class_counts.values())\n",
    "\n",
    "    # Create output folder for augmented images\n",
    "    os.makedirs(output_folder, exist_ok=True)\n",
    "\n",
    "    # Initialize lists to store new filenames and labels\n",
    "    balanced_filenames = []\n",
    "    balanced_labels = []\n",
    "\n",
    "    # Loop over each class and balance it\n",
    "    for class_label, count in class_counts.items():\n",
    "        class_filenames = [fname for fname, label in zip(filenames, labels) if label == class_label]\n",
    "        balanced_filenames.extend(class_filenames)\n",
    "        balanced_labels.extend([class_label] * len(class_filenames))\n",
    "\n",
    "        # Calculate how many more samples are needed to balance the dataset\n",
    "        difference = max_class_count - count\n",
    "        augmented_filenames = []\n",
    "        augmented_labels = []\n",
    "\n",
    "        # Augment the minority class images and save them to the new folder\n",
    "        while difference > 0:\n",
    "            for fname in class_filenames:\n",
    "                image = cv2.imread(fname)\n",
    "                augmented_image = augment_image_cv2(image)\n",
    "\n",
    "                # Create a new filename for the augmented image\n",
    "                base_name = os.path.basename(fname)\n",
    "                new_filename = os.path.join(output_folder, f'aug_{difference}_{base_name}')\n",
    "\n",
    "                # Save the augmented image\n",
    "                cv2.imwrite(new_filename, augmented_image)\n",
    "\n",
    "                augmented_filenames.append(new_filename)  # Store the new filename\n",
    "                augmented_labels.append(class_label)\n",
    "                difference -= 1\n",
    "                if difference <= 0:\n",
    "                    break\n",
    "\n",
    "        # Add augmented images and labels to the dataset\n",
    "        balanced_filenames.extend(augmented_filenames)\n",
    "        balanced_labels.extend(augmented_labels)\n",
    "\n",
    "    return balanced_filenames, balanced_labels"
   ]
  },
  {
   "cell_type": "code",
   "execution_count": 8,
   "id": "2a62548b-562b-4fa2-ab54-1e567c92d9c5",
   "metadata": {},
   "outputs": [
    {
     "name": "stdout",
     "output_type": "stream",
     "text": [
      "Training dataset:\t\t Counter({1: 1536, 2: 1536, 3: 1229, 4: 922, 5: 614, 6: 307})\n",
      "\n",
      "Balanced Training dataset:\t Counter({1: 1536, 4: 1536, 3: 1536, 2: 1536, 5: 1536, 6: 1536})\n",
      "Validation dataset:\t\t Counter({1: 384, 2: 384, 3: 307, 4: 230, 5: 154, 6: 77})\n"
     ]
    }
   ],
   "source": [
    "from sklearn.model_selection import train_test_split\n",
    "# Split the dataset into training and validation sets\n",
    "train_filenames, val_filenames, train_labels, val_labels = train_test_split(\n",
    "    filenames, labels, test_size=0.2, stratify=labels, random_state=42)\n",
    "\n",
    "# Balance the training dataset by augmenting the minority class\n",
    "train_balanced_filenames, train_balanced_labels = balance_classes(train_filenames, train_labels)\n",
    "\n",
    "print(f'Training dataset:\\t\\t {Counter(train_labels)}')\n",
    "print()\n",
    "print(f'Balanced Training dataset:\\t {Counter(train_balanced_labels)}')\n",
    "print(f'Validation dataset:\\t\\t {Counter(val_labels)}')"
   ]
  },
  {
   "cell_type": "code",
   "execution_count": 9,
   "id": "d72c9a74-379d-4285-a58e-94a0318ae6fc",
   "metadata": {},
   "outputs": [],
   "source": [
    "class CustomCV2Dataset(Dataset):\n",
    "    def __init__(self, filenames, labels):\n",
    "        self.filenames = filenames\n",
    "        self.labels = labels\n",
    "        self.transform = transforms.Compose([\n",
    "            transforms.ToTensor(),  # Convert to tensor\n",
    "            transforms.Normalize((0.5, 0.5, 0.5), (0.5, 0.5, 0.5))  # Normalize\n",
    "        ])\n",
    "\n",
    "    def __len__(self):\n",
    "        return len(self.filenames)\n",
    "\n",
    "    def __getitem__(self, idx):\n",
    "        # Load image using OpenCV\n",
    "        image = cv2.imread(self.filenames[idx])\n",
    "        image = cv2.cvtColor(image, cv2.COLOR_BGR2RGB)  # Convert from BGR to RGB\n",
    "\n",
    "        # Convert the image to tensor and normalize\n",
    "        image = self.transform(image)\n",
    "        label = self.labels[idx]\n",
    "        return image, label\n",
    "\n",
    "# Create datasets with balanced data\n",
    "# train_dataset = CustomCV2Dataset(train_filenames, train_labels)\n",
    "train_dataset = CustomCV2Dataset(train_balanced_filenames, train_balanced_labels)\n",
    "val_dataset = CustomCV2Dataset(val_filenames, val_labels)  # Use the original validation data\n",
    "\n",
    "# Create DataLoaders\n",
    "batch_size = 32\n",
    "train_loader = DataLoader(train_dataset, batch_size=batch_size, shuffle=True, num_workers=4)\n",
    "validation_loader = DataLoader(val_dataset, batch_size=batch_size, shuffle=False, num_workers=4)"
   ]
  },
  {
   "cell_type": "code",
   "execution_count": 10,
   "id": "99dfe0b3-afad-4a93-a57f-3e532157033b",
   "metadata": {},
   "outputs": [],
   "source": [
    "# # Model 1: Self made\n",
    "class CNN(nn.Module):\n",
    "    def __init__(self):\n",
    "        super(CNN, self).__init__()\n",
    "\n",
    "        # Convolutional layers\n",
    "        self.conv1 = nn.Conv2d(in_channels=3, out_channels=32, kernel_size=5, stride=1, padding=2)  # Output: (32, 224, 224)\n",
    "        self.conv2 = nn.Conv2d(in_channels=32, out_channels=64, kernel_size=5, stride=1, padding=2)  # Output: (64, 112, 112)\n",
    "        self.conv3 = nn.Conv2d(in_channels=64, out_channels=128, kernel_size=3, stride=1, padding=1)  # Output: (128, 56, 56)\n",
    "        \n",
    "        self.pool = nn.MaxPool2d(kernel_size=2, stride=2)  # Downsampling\n",
    "        self.dropout = nn.Dropout(p=0.3)  # 30% dropout\n",
    "\n",
    "        # Calculate the flattened size for the fully connected layers\n",
    "        self.flattened_size = self._get_flattened_size()\n",
    "\n",
    "        # Fully connected layers\n",
    "        self.fc1 = nn.Linear(self.flattened_size, 512)  # First fully connected layer\n",
    "        self.fc2 = nn.Linear(512, 256)  # Second fully connected layer\n",
    "        self.fc3 = nn.Linear(256, 6)  # Output layer for 6 classes\n",
    "\n",
    "        # Batch Normalization\n",
    "        self.batch_norm1 = nn.BatchNorm1d(512)\n",
    "        self.batch_norm2 = nn.BatchNorm1d(256)\n",
    "\n",
    "    def _get_flattened_size(self):\n",
    "        # Create a dummy tensor to calculate the flattened size\n",
    "        with torch.no_grad():\n",
    "            x = torch.zeros(1, 3, 224, 224)  # Example input with correct dimensions (3 channels)\n",
    "            x = self.pool(F.relu(self.conv1(x)))  # Conv1 + ReLU + Max Pooling\n",
    "            x = self.pool(F.relu(self.conv2(x)))  # Conv2 + ReLU + Max Pooling\n",
    "            x = self.pool(F.relu(self.conv3(x)))  # Conv3 + ReLU + Max Pooling\n",
    "            return x.numel()  # Get the number of elements in the output tensor\n",
    "\n",
    "    def forward(self, x):\n",
    "        x = self.pool(F.relu(self.conv1(x)))  # Conv1 + ReLU + Max Pooling\n",
    "        x = self.dropout(x)  # Apply dropout during training\n",
    "        x = self.pool(F.relu(self.conv2(x)))  # Conv2 + ReLU + Max Pooling\n",
    "        x = self.dropout(x)  # Apply dropout during training\n",
    "        x = self.pool(F.relu(self.conv3(x)))  # Conv3 + ReLU + Max Pooling\n",
    "        x = x.view(x.size(0), -1)  # Flatten the output for fully connected layers\n",
    "        \n",
    "        x = F.relu(self.fc1(x))  # First fully connected layer\n",
    "        x = self.batch_norm1(x)  # Batch normalization\n",
    "        x = self.dropout(x)  # Apply dropout during training\n",
    "        \n",
    "        x = F.relu(self.fc2(x))  # Second fully connected layer\n",
    "        x = self.batch_norm2(x)  # Batch normalization\n",
    "        x = self.dropout(x)  # Apply dropout during training\n",
    "        \n",
    "        x = self.fc3(x)  # Final output layer\n",
    "        return x"
   ]
  },
  {
   "cell_type": "code",
   "execution_count": 11,
   "id": "76b55301-a108-4338-9e12-7601bbef896d",
   "metadata": {},
   "outputs": [],
   "source": [
    "## Model 2: EfficientNet\n",
    "class EfficientNet(nn.Module):\n",
    "    def __init__(self, num_classes=6):\n",
    "        super(EfficientNet, self).__init__()\n",
    "        \n",
    "        # Load the pre-trained EfficientNet-B0 model\n",
    "        self.efficientnet = timm.create_model('efficientnet_b0', pretrained=True)\n",
    "        \n",
    "        # Replace the classifier layer with a new one\n",
    "        self.efficientnet.classifier = nn.Linear(self.efficientnet.classifier.in_features, num_classes)\n",
    "\n",
    "        # Regularization\n",
    "        self.dropout = nn.Dropout(p=0.3)\n",
    "        \n",
    "    def forward(self, x):\n",
    "        x = self.efficientnet(x)\n",
    "        x= self.dropout(x)\n",
    "        return x"
   ]
  },
  {
   "cell_type": "code",
   "execution_count": 36,
   "id": "d0f0819b-780e-4805-9c29-0970769de09c",
   "metadata": {},
   "outputs": [],
   "source": [
    "## Model 3: inception_v3\n",
    "class Inception_v3(nn.Module):\n",
    "    def __init__(self, num_classes=6):\n",
    "        super(Inception_v3, self).__init__()\n",
    "        self.inception = timm.create_model(\"inception_v3\", pretrained=True, num_classes=num_classes)\n",
    "\n",
    "    def forward(self, x):\n",
    "        x = nn.functional.interpolate(x, size=(299, 299), mode='bilinear', align_corners=False)\n",
    "        outputs = self.inception(x)\n",
    "        return outputs"
   ]
  },
  {
   "cell_type": "code",
   "execution_count": 26,
   "id": "e445a170-420b-49de-8500-633fb48c4aca",
   "metadata": {},
   "outputs": [],
   "source": [
    "## Model 4: inception_v4 with ImageNet\n",
    "class Inception_v4_ImageNet(nn.Module):\n",
    "    def __init__(self, num_classes=6):\n",
    "        super(Inception_v4_ImageNet, self).__init__()\n",
    "        self.inception = timm.create_model(\"inception_v4\", pretrained=True, num_classes=num_classes)\n",
    "\n",
    "    def forward(self, x):\n",
    "        x = nn.functional.interpolate(x, size=(299, 299), mode='bilinear', align_corners=False)\n",
    "        outputs = self.inception(x)\n",
    "        return outputs"
   ]
  },
  {
   "cell_type": "code",
   "execution_count": 27,
   "id": "2c164f7d-0533-45fb-81d0-7b2722d11e6a",
   "metadata": {},
   "outputs": [],
   "source": [
    "## Model 5: inception_v4 with inception_resnet_v2\n",
    "class Inception_v4_Resnet_v2(nn.Module):\n",
    "    def __init__(self, num_classes=6):\n",
    "        super(Inception_v4_Resnet_v2, self).__init__()\n",
    "        self.inception = timm.create_model(\"inception_resnet_v2\", pretrained=True, num_classes=num_classes)\n",
    "\n",
    "    def forward(self, x):\n",
    "        x = nn.functional.interpolate(x, size=(299, 299), mode='bilinear', align_corners=False)\n",
    "        outputs = self.inception(x)  # No need for .logits with timm models\n",
    "        return outputs"
   ]
  },
  {
   "cell_type": "code",
   "execution_count": 48,
   "id": "12e991ef-edf4-4cf9-be2a-041727dbf202",
   "metadata": {},
   "outputs": [],
   "source": [
    "import csv\n",
    "import time\n",
    "\n",
    "# Function to save history to a CSV file\n",
    "def save_history_to_csv(history, model_name, output_dir='training_results'):\n",
    "    os.makedirs(output_dir, exist_ok=True) \n",
    "    csv_file = os.path.join(output_dir, f\"{model_name}_history.csv\")\n",
    "    \n",
    "    with open(csv_file, mode='w', newline='') as file:\n",
    "        writer = csv.writer(file)\n",
    "        # Write the header\n",
    "        writer.writerow(['Epoch', 'Train Loss', 'Val Loss', 'Train Acc', 'Val Acc'])\n",
    "        # Write the epoch-by-epoch data without train time\n",
    "        for epoch, train_loss, val_loss, train_acc, val_acc in zip(history['epochs'], \n",
    "                                                                   history['train_loss'], \n",
    "                                                                   history['val_loss'], \n",
    "                                                                   history['train_acc'], \n",
    "                                                                   history['val_acc']):\n",
    "            writer.writerow([epoch, train_loss, val_loss, train_acc, val_acc])\n",
    "\n",
    "        # Save the total train time in a separate row after all epochs are written\n",
    "        writer.writerow(['Total Time', history['total_train_time']])\n",
    "\n",
    "    print(f\"History saved to {csv_file}\")\n",
    "\n",
    "\n",
    "# Function to train the model\n",
    "def train_model(model, train_loader, val_loader, criterion, optimizer, num_epochs, model_name):\n",
    "    # Dictionary to store the history of loss and accuracy\n",
    "    history = {\n",
    "        'epochs': [],\n",
    "        'train_loss': [],\n",
    "        'val_loss': [],\n",
    "        'train_acc': [],\n",
    "        'val_acc': [],\n",
    "        'total_train_time': 0 \n",
    "    }\n",
    "\n",
    "    start_time = time.time()  # Start timing the training process\n",
    "    \n",
    "    for epoch in range(num_epochs):\n",
    "        model.train()  # Set the model to training mode\n",
    "        running_loss = 0.0\n",
    "        correct_train = 0\n",
    "        total_train = 0\n",
    "\n",
    "        # Iterate over training data\n",
    "        for images, labels in tqdm(train_loader, desc=f\"Training Epoch {epoch+1}/{num_epochs}\"):\n",
    "            images, labels = images.to(device), labels.to(device).long()  # Move data to device\n",
    "\n",
    "            # Adjust labels to start at 0\n",
    "            labels = labels - 1  # Now labels range from 0 to 5\n",
    "\n",
    "            optimizer.zero_grad()  # Zero the gradients\n",
    "            outputs = model(images)  # Forward pass\n",
    "            loss = criterion(outputs, labels)  # Calculate loss\n",
    "            loss.backward()  # Backward pass\n",
    "            optimizer.step()  # Optimize the model parameters\n",
    "\n",
    "            running_loss += loss.item()  # Accumulate loss\n",
    "            _, predicted = torch.max(outputs.data, 1)  # Get the predicted classes\n",
    "            total_train += labels.size(0)  # Total samples\n",
    "            correct_train += (predicted == labels).sum().item()  # Correct predictions\n",
    "\n",
    "        # Calculate average loss and accuracy\n",
    "        train_loss = running_loss / len(train_loader)\n",
    "        train_acc = correct_train / total_train\n",
    "\n",
    "        print(f\"Epoch [{epoch+1}/{num_epochs}], Loss: {train_loss:.4f}, Accuracy: {train_acc:.4f}\")\n",
    "\n",
    "        # Validation loop (set model to eval mode)\n",
    "        model.eval()\n",
    "        running_val_loss = 0.0\n",
    "        correct_val = 0\n",
    "        total_val = 0\n",
    "\n",
    "        with torch.no_grad(): # No gradient calculation in validation\n",
    "            for val_data, val_labels in val_loader:\n",
    "                val_data, val_labels = val_data.to(device), val_labels.to(device).long()  # Move data to device\n",
    "                # Adjust labels to start at 0\n",
    "                val_labels = val_labels - 1  # Now labels range from 0 to 5\n",
    "\n",
    "                val_outputs = model(val_data)\n",
    "                val_loss = criterion(val_outputs, val_labels)\n",
    "                running_val_loss += val_loss.item()\n",
    "        \n",
    "                _, val_predicted = torch.max(val_outputs, 1)\n",
    "                correct_val += (val_predicted == val_labels).sum().item()\n",
    "                total_val += val_labels.size(0)\n",
    "        # Calculate validation loss and accuracy\n",
    "        val_loss = running_val_loss / len(val_loader)\n",
    "        val_acc = correct_val / total_val\n",
    "\n",
    "        # Save epoch results to history dictionary\n",
    "        history['epochs'].append(epoch + 1)\n",
    "        history['train_loss'].append(train_loss)\n",
    "        history['val_loss'].append(val_loss)\n",
    "        history['train_acc'].append(train_acc)\n",
    "        history['val_acc'].append(val_acc)\n",
    "\n",
    "        print(f\"Epoch {epoch+1}/{num_epochs} - \"\n",
    "              f\"Train Loss: {train_loss:.4f} - Train Acc: {train_acc:.4f} - \"\n",
    "              f\"Val Loss: {val_loss:.4f} - Val Acc: {val_acc:.4f}\")\n",
    "    \n",
    "    # Store the total training time\n",
    "    history['total_train_time'] = time.time() - start_time\n",
    "\n",
    "    # Save the history to CSV\n",
    "    save_history_to_csv(history, model_name)\n",
    "    \n",
    "    return history\n"
   ]
  },
  {
   "cell_type": "code",
   "execution_count": 49,
   "id": "038b5ec9-e038-44ff-92d4-0e1bf6165887",
   "metadata": {},
   "outputs": [
    {
     "name": "stdout",
     "output_type": "stream",
     "text": [
      "Training model: CNN\n"
     ]
    },
    {
     "name": "stderr",
     "output_type": "stream",
     "text": [
      "Training Epoch 1/20: 100%|██████████| 288/288 [00:07<00:00, 39.20it/s]"
     ]
    },
    {
     "name": "stdout",
     "output_type": "stream",
     "text": [
      "Epoch [1/20], Loss: 1.7091, Accuracy: 0.2623\n"
     ]
    },
    {
     "name": "stderr",
     "output_type": "stream",
     "text": [
      "\n"
     ]
    },
    {
     "name": "stdout",
     "output_type": "stream",
     "text": [
      "Epoch 1/20 - Train Loss: 1.7091 - Train Acc: 0.2623 - Val Loss: 1.9861 - Val Acc: 0.2324\n"
     ]
    },
    {
     "name": "stderr",
     "output_type": "stream",
     "text": [
      "Training Epoch 2/20: 100%|██████████| 288/288 [00:07<00:00, 40.01it/s]"
     ]
    },
    {
     "name": "stdout",
     "output_type": "stream",
     "text": [
      "Epoch [2/20], Loss: 1.5946, Accuracy: 0.2878\n"
     ]
    },
    {
     "name": "stderr",
     "output_type": "stream",
     "text": [
      "\n"
     ]
    },
    {
     "name": "stdout",
     "output_type": "stream",
     "text": [
      "Epoch 2/20 - Train Loss: 1.5946 - Train Acc: 0.2878 - Val Loss: 1.6807 - Val Acc: 0.2467\n"
     ]
    },
    {
     "name": "stderr",
     "output_type": "stream",
     "text": [
      "Training Epoch 3/20: 100%|██████████| 288/288 [00:10<00:00, 27.77it/s]"
     ]
    },
    {
     "name": "stdout",
     "output_type": "stream",
     "text": [
      "Epoch [3/20], Loss: 1.5526, Accuracy: 0.3028\n"
     ]
    },
    {
     "name": "stderr",
     "output_type": "stream",
     "text": [
      "\n"
     ]
    },
    {
     "name": "stdout",
     "output_type": "stream",
     "text": [
      "Epoch 3/20 - Train Loss: 1.5526 - Train Acc: 0.3028 - Val Loss: 1.7247 - Val Acc: 0.2565\n"
     ]
    },
    {
     "name": "stderr",
     "output_type": "stream",
     "text": [
      "Training Epoch 4/20: 100%|██████████| 288/288 [00:07<00:00, 39.35it/s]"
     ]
    },
    {
     "name": "stdout",
     "output_type": "stream",
     "text": [
      "Epoch [4/20], Loss: 1.5366, Accuracy: 0.3083\n"
     ]
    },
    {
     "name": "stderr",
     "output_type": "stream",
     "text": [
      "\n"
     ]
    },
    {
     "name": "stdout",
     "output_type": "stream",
     "text": [
      "Epoch 4/20 - Train Loss: 1.5366 - Train Acc: 0.3083 - Val Loss: 1.6831 - Val Acc: 0.2578\n"
     ]
    },
    {
     "name": "stderr",
     "output_type": "stream",
     "text": [
      "Training Epoch 5/20: 100%|██████████| 288/288 [00:07<00:00, 39.14it/s]"
     ]
    },
    {
     "name": "stdout",
     "output_type": "stream",
     "text": [
      "Epoch [5/20], Loss: 1.5496, Accuracy: 0.3081\n"
     ]
    },
    {
     "name": "stderr",
     "output_type": "stream",
     "text": [
      "\n"
     ]
    },
    {
     "name": "stdout",
     "output_type": "stream",
     "text": [
      "Epoch 5/20 - Train Loss: 1.5496 - Train Acc: 0.3081 - Val Loss: 2.0018 - Val Acc: 0.2643\n"
     ]
    },
    {
     "name": "stderr",
     "output_type": "stream",
     "text": [
      "Training Epoch 6/20: 100%|██████████| 288/288 [00:07<00:00, 39.07it/s]"
     ]
    },
    {
     "name": "stdout",
     "output_type": "stream",
     "text": [
      "Epoch [6/20], Loss: 1.4753, Accuracy: 0.3319\n"
     ]
    },
    {
     "name": "stderr",
     "output_type": "stream",
     "text": [
      "\n"
     ]
    },
    {
     "name": "stdout",
     "output_type": "stream",
     "text": [
      "Epoch 6/20 - Train Loss: 1.4753 - Train Acc: 0.3319 - Val Loss: 2.4908 - Val Acc: 0.2533\n"
     ]
    },
    {
     "name": "stderr",
     "output_type": "stream",
     "text": [
      "Training Epoch 7/20: 100%|██████████| 288/288 [00:10<00:00, 26.77it/s]"
     ]
    },
    {
     "name": "stdout",
     "output_type": "stream",
     "text": [
      "Epoch [7/20], Loss: 1.4514, Accuracy: 0.3512\n"
     ]
    },
    {
     "name": "stderr",
     "output_type": "stream",
     "text": [
      "\n"
     ]
    },
    {
     "name": "stdout",
     "output_type": "stream",
     "text": [
      "Epoch 7/20 - Train Loss: 1.4514 - Train Acc: 0.3512 - Val Loss: 1.5911 - Val Acc: 0.2637\n"
     ]
    },
    {
     "name": "stderr",
     "output_type": "stream",
     "text": [
      "Training Epoch 8/20: 100%|██████████| 288/288 [00:14<00:00, 19.28it/s]"
     ]
    },
    {
     "name": "stdout",
     "output_type": "stream",
     "text": [
      "Epoch [8/20], Loss: 1.4129, Accuracy: 0.3760\n"
     ]
    },
    {
     "name": "stderr",
     "output_type": "stream",
     "text": [
      "\n"
     ]
    },
    {
     "name": "stdout",
     "output_type": "stream",
     "text": [
      "Epoch 8/20 - Train Loss: 1.4129 - Train Acc: 0.3760 - Val Loss: 2.1784 - Val Acc: 0.2650\n"
     ]
    },
    {
     "name": "stderr",
     "output_type": "stream",
     "text": [
      "Training Epoch 9/20: 100%|██████████| 288/288 [00:11<00:00, 24.71it/s]"
     ]
    },
    {
     "name": "stdout",
     "output_type": "stream",
     "text": [
      "Epoch [9/20], Loss: 1.3667, Accuracy: 0.4113\n"
     ]
    },
    {
     "name": "stderr",
     "output_type": "stream",
     "text": [
      "\n"
     ]
    },
    {
     "name": "stdout",
     "output_type": "stream",
     "text": [
      "Epoch 9/20 - Train Loss: 1.3667 - Train Acc: 0.4113 - Val Loss: 1.8370 - Val Acc: 0.2780\n"
     ]
    },
    {
     "name": "stderr",
     "output_type": "stream",
     "text": [
      "Training Epoch 10/20: 100%|██████████| 288/288 [00:11<00:00, 24.58it/s]"
     ]
    },
    {
     "name": "stdout",
     "output_type": "stream",
     "text": [
      "Epoch [10/20], Loss: 1.4087, Accuracy: 0.3860\n"
     ]
    },
    {
     "name": "stderr",
     "output_type": "stream",
     "text": [
      "\n"
     ]
    },
    {
     "name": "stdout",
     "output_type": "stream",
     "text": [
      "Epoch 10/20 - Train Loss: 1.4087 - Train Acc: 0.3860 - Val Loss: 1.9984 - Val Acc: 0.2695\n"
     ]
    },
    {
     "name": "stderr",
     "output_type": "stream",
     "text": [
      "Training Epoch 11/20: 100%|██████████| 288/288 [00:10<00:00, 26.50it/s]"
     ]
    },
    {
     "name": "stdout",
     "output_type": "stream",
     "text": [
      "Epoch [11/20], Loss: 1.3007, Accuracy: 0.4473\n"
     ]
    },
    {
     "name": "stderr",
     "output_type": "stream",
     "text": [
      "\n"
     ]
    },
    {
     "name": "stdout",
     "output_type": "stream",
     "text": [
      "Epoch 11/20 - Train Loss: 1.3007 - Train Acc: 0.4473 - Val Loss: 2.7148 - Val Acc: 0.2826\n"
     ]
    },
    {
     "name": "stderr",
     "output_type": "stream",
     "text": [
      "Training Epoch 12/20: 100%|██████████| 288/288 [00:10<00:00, 26.69it/s]"
     ]
    },
    {
     "name": "stdout",
     "output_type": "stream",
     "text": [
      "Epoch [12/20], Loss: 1.2031, Accuracy: 0.4974\n"
     ]
    },
    {
     "name": "stderr",
     "output_type": "stream",
     "text": [
      "\n"
     ]
    },
    {
     "name": "stdout",
     "output_type": "stream",
     "text": [
      "Epoch 12/20 - Train Loss: 1.2031 - Train Acc: 0.4974 - Val Loss: 2.4712 - Val Acc: 0.2839\n"
     ]
    },
    {
     "name": "stderr",
     "output_type": "stream",
     "text": [
      "Training Epoch 13/20: 100%|██████████| 288/288 [00:10<00:00, 26.71it/s]"
     ]
    },
    {
     "name": "stdout",
     "output_type": "stream",
     "text": [
      "Epoch [13/20], Loss: 1.1045, Accuracy: 0.5428\n"
     ]
    },
    {
     "name": "stderr",
     "output_type": "stream",
     "text": [
      "\n"
     ]
    },
    {
     "name": "stdout",
     "output_type": "stream",
     "text": [
      "Epoch 13/20 - Train Loss: 1.1045 - Train Acc: 0.5428 - Val Loss: 2.4485 - Val Acc: 0.2826\n"
     ]
    },
    {
     "name": "stderr",
     "output_type": "stream",
     "text": [
      "Training Epoch 14/20: 100%|██████████| 288/288 [00:09<00:00, 29.05it/s]"
     ]
    },
    {
     "name": "stdout",
     "output_type": "stream",
     "text": [
      "Epoch [14/20], Loss: 0.9779, Accuracy: 0.6156\n"
     ]
    },
    {
     "name": "stderr",
     "output_type": "stream",
     "text": [
      "\n"
     ]
    },
    {
     "name": "stdout",
     "output_type": "stream",
     "text": [
      "Epoch 14/20 - Train Loss: 0.9779 - Train Acc: 0.6156 - Val Loss: 2.0579 - Val Acc: 0.2910\n"
     ]
    },
    {
     "name": "stderr",
     "output_type": "stream",
     "text": [
      "Training Epoch 15/20: 100%|██████████| 288/288 [00:07<00:00, 39.75it/s]"
     ]
    },
    {
     "name": "stdout",
     "output_type": "stream",
     "text": [
      "Epoch [15/20], Loss: 0.8354, Accuracy: 0.6760\n"
     ]
    },
    {
     "name": "stderr",
     "output_type": "stream",
     "text": [
      "\n"
     ]
    },
    {
     "name": "stdout",
     "output_type": "stream",
     "text": [
      "Epoch 15/20 - Train Loss: 0.8354 - Train Acc: 0.6760 - Val Loss: 3.9350 - Val Acc: 0.2786\n"
     ]
    },
    {
     "name": "stderr",
     "output_type": "stream",
     "text": [
      "Training Epoch 16/20: 100%|██████████| 288/288 [00:10<00:00, 26.71it/s]"
     ]
    },
    {
     "name": "stdout",
     "output_type": "stream",
     "text": [
      "Epoch [16/20], Loss: 0.7511, Accuracy: 0.7104\n"
     ]
    },
    {
     "name": "stderr",
     "output_type": "stream",
     "text": [
      "\n"
     ]
    },
    {
     "name": "stdout",
     "output_type": "stream",
     "text": [
      "Epoch 16/20 - Train Loss: 0.7511 - Train Acc: 0.7104 - Val Loss: 2.9804 - Val Acc: 0.2943\n"
     ]
    },
    {
     "name": "stderr",
     "output_type": "stream",
     "text": [
      "Training Epoch 17/20: 100%|██████████| 288/288 [00:10<00:00, 26.51it/s]"
     ]
    },
    {
     "name": "stdout",
     "output_type": "stream",
     "text": [
      "Epoch [17/20], Loss: 0.5836, Accuracy: 0.7769\n"
     ]
    },
    {
     "name": "stderr",
     "output_type": "stream",
     "text": [
      "\n"
     ]
    },
    {
     "name": "stdout",
     "output_type": "stream",
     "text": [
      "Epoch 17/20 - Train Loss: 0.5836 - Train Acc: 0.7769 - Val Loss: 2.9356 - Val Acc: 0.2734\n"
     ]
    },
    {
     "name": "stderr",
     "output_type": "stream",
     "text": [
      "Training Epoch 18/20: 100%|██████████| 288/288 [00:14<00:00, 19.84it/s]"
     ]
    },
    {
     "name": "stdout",
     "output_type": "stream",
     "text": [
      "Epoch [18/20], Loss: 0.4438, Accuracy: 0.8422\n"
     ]
    },
    {
     "name": "stderr",
     "output_type": "stream",
     "text": [
      "\n"
     ]
    },
    {
     "name": "stdout",
     "output_type": "stream",
     "text": [
      "Epoch 18/20 - Train Loss: 0.4438 - Train Acc: 0.8422 - Val Loss: 2.6887 - Val Acc: 0.2826\n"
     ]
    },
    {
     "name": "stderr",
     "output_type": "stream",
     "text": [
      "Training Epoch 19/20: 100%|██████████| 288/288 [00:11<00:00, 25.39it/s]"
     ]
    },
    {
     "name": "stdout",
     "output_type": "stream",
     "text": [
      "Epoch [19/20], Loss: 0.4295, Accuracy: 0.8446\n"
     ]
    },
    {
     "name": "stderr",
     "output_type": "stream",
     "text": [
      "\n"
     ]
    },
    {
     "name": "stdout",
     "output_type": "stream",
     "text": [
      "Epoch 19/20 - Train Loss: 0.4295 - Train Acc: 0.8446 - Val Loss: 2.8025 - Val Acc: 0.2904\n"
     ]
    },
    {
     "name": "stderr",
     "output_type": "stream",
     "text": [
      "Training Epoch 20/20: 100%|██████████| 288/288 [00:07<00:00, 38.04it/s]"
     ]
    },
    {
     "name": "stdout",
     "output_type": "stream",
     "text": [
      "Epoch [20/20], Loss: 0.3781, Accuracy: 0.8570\n"
     ]
    },
    {
     "name": "stderr",
     "output_type": "stream",
     "text": [
      "\n"
     ]
    },
    {
     "name": "stdout",
     "output_type": "stream",
     "text": [
      "Epoch 20/20 - Train Loss: 0.3781 - Train Acc: 0.8570 - Val Loss: 3.2234 - Val Acc: 0.2708\n",
      "History saved to training_results/CNN_history.csv\n",
      "Training model: EfficientNet\n"
     ]
    },
    {
     "name": "stderr",
     "output_type": "stream",
     "text": [
      "Training Epoch 1/20: 100%|██████████| 288/288 [00:10<00:00, 27.02it/s]"
     ]
    },
    {
     "name": "stdout",
     "output_type": "stream",
     "text": [
      "Epoch [1/20], Loss: 1.4990, Accuracy: 0.3559\n"
     ]
    },
    {
     "name": "stderr",
     "output_type": "stream",
     "text": [
      "\n"
     ]
    },
    {
     "name": "stdout",
     "output_type": "stream",
     "text": [
      "Epoch 1/20 - Train Loss: 1.4990 - Train Acc: 0.3559 - Val Loss: 1.3196 - Val Acc: 0.4225\n"
     ]
    },
    {
     "name": "stderr",
     "output_type": "stream",
     "text": [
      "Training Epoch 2/20: 100%|██████████| 288/288 [00:10<00:00, 27.52it/s]"
     ]
    },
    {
     "name": "stdout",
     "output_type": "stream",
     "text": [
      "Epoch [2/20], Loss: 1.3182, Accuracy: 0.4474\n"
     ]
    },
    {
     "name": "stderr",
     "output_type": "stream",
     "text": [
      "\n"
     ]
    },
    {
     "name": "stdout",
     "output_type": "stream",
     "text": [
      "Epoch 2/20 - Train Loss: 1.3182 - Train Acc: 0.4474 - Val Loss: 1.2773 - Val Acc: 0.4629\n"
     ]
    },
    {
     "name": "stderr",
     "output_type": "stream",
     "text": [
      "Training Epoch 3/20: 100%|██████████| 288/288 [00:14<00:00, 19.92it/s]"
     ]
    },
    {
     "name": "stdout",
     "output_type": "stream",
     "text": [
      "Epoch [3/20], Loss: 1.2153, Accuracy: 0.4941\n"
     ]
    },
    {
     "name": "stderr",
     "output_type": "stream",
     "text": [
      "\n"
     ]
    },
    {
     "name": "stdout",
     "output_type": "stream",
     "text": [
      "Epoch 3/20 - Train Loss: 1.2153 - Train Acc: 0.4941 - Val Loss: 1.1709 - Val Acc: 0.5221\n"
     ]
    },
    {
     "name": "stderr",
     "output_type": "stream",
     "text": [
      "Training Epoch 4/20: 100%|██████████| 288/288 [00:14<00:00, 19.75it/s]"
     ]
    },
    {
     "name": "stdout",
     "output_type": "stream",
     "text": [
      "Epoch [4/20], Loss: 1.0976, Accuracy: 0.5483\n"
     ]
    },
    {
     "name": "stderr",
     "output_type": "stream",
     "text": [
      "\n"
     ]
    },
    {
     "name": "stdout",
     "output_type": "stream",
     "text": [
      "Epoch 4/20 - Train Loss: 1.0976 - Train Acc: 0.5483 - Val Loss: 1.1600 - Val Acc: 0.5130\n"
     ]
    },
    {
     "name": "stderr",
     "output_type": "stream",
     "text": [
      "Training Epoch 5/20: 100%|██████████| 288/288 [00:15<00:00, 18.35it/s]"
     ]
    },
    {
     "name": "stdout",
     "output_type": "stream",
     "text": [
      "Epoch [5/20], Loss: 1.0284, Accuracy: 0.5788\n"
     ]
    },
    {
     "name": "stderr",
     "output_type": "stream",
     "text": [
      "\n"
     ]
    },
    {
     "name": "stdout",
     "output_type": "stream",
     "text": [
      "Epoch 5/20 - Train Loss: 1.0284 - Train Acc: 0.5788 - Val Loss: 1.1034 - Val Acc: 0.5618\n"
     ]
    },
    {
     "name": "stderr",
     "output_type": "stream",
     "text": [
      "Training Epoch 6/20: 100%|██████████| 288/288 [00:22<00:00, 12.88it/s]"
     ]
    },
    {
     "name": "stdout",
     "output_type": "stream",
     "text": [
      "Epoch [6/20], Loss: 0.9450, Accuracy: 0.6058\n"
     ]
    },
    {
     "name": "stderr",
     "output_type": "stream",
     "text": [
      "\n"
     ]
    },
    {
     "name": "stdout",
     "output_type": "stream",
     "text": [
      "Epoch 6/20 - Train Loss: 0.9450 - Train Acc: 0.6058 - Val Loss: 1.1471 - Val Acc: 0.5658\n"
     ]
    },
    {
     "name": "stderr",
     "output_type": "stream",
     "text": [
      "Training Epoch 7/20: 100%|██████████| 288/288 [00:15<00:00, 18.32it/s]"
     ]
    },
    {
     "name": "stdout",
     "output_type": "stream",
     "text": [
      "Epoch [7/20], Loss: 0.8690, Accuracy: 0.6391\n"
     ]
    },
    {
     "name": "stderr",
     "output_type": "stream",
     "text": [
      "\n"
     ]
    },
    {
     "name": "stdout",
     "output_type": "stream",
     "text": [
      "Epoch 7/20 - Train Loss: 0.8690 - Train Acc: 0.6391 - Val Loss: 1.1264 - Val Acc: 0.5781\n"
     ]
    },
    {
     "name": "stderr",
     "output_type": "stream",
     "text": [
      "Training Epoch 8/20: 100%|██████████| 288/288 [00:15<00:00, 18.70it/s]"
     ]
    },
    {
     "name": "stdout",
     "output_type": "stream",
     "text": [
      "Epoch [8/20], Loss: 0.8079, Accuracy: 0.6724\n"
     ]
    },
    {
     "name": "stderr",
     "output_type": "stream",
     "text": [
      "\n"
     ]
    },
    {
     "name": "stdout",
     "output_type": "stream",
     "text": [
      "Epoch 8/20 - Train Loss: 0.8079 - Train Acc: 0.6724 - Val Loss: 1.1160 - Val Acc: 0.5794\n"
     ]
    },
    {
     "name": "stderr",
     "output_type": "stream",
     "text": [
      "Training Epoch 9/20: 100%|██████████| 288/288 [00:18<00:00, 15.53it/s]"
     ]
    },
    {
     "name": "stdout",
     "output_type": "stream",
     "text": [
      "Epoch [9/20], Loss: 0.7233, Accuracy: 0.6979\n"
     ]
    },
    {
     "name": "stderr",
     "output_type": "stream",
     "text": [
      "\n"
     ]
    },
    {
     "name": "stdout",
     "output_type": "stream",
     "text": [
      "Epoch 9/20 - Train Loss: 0.7233 - Train Acc: 0.6979 - Val Loss: 1.2861 - Val Acc: 0.5768\n"
     ]
    },
    {
     "name": "stderr",
     "output_type": "stream",
     "text": [
      "Training Epoch 10/20: 100%|██████████| 288/288 [00:18<00:00, 15.64it/s]"
     ]
    },
    {
     "name": "stdout",
     "output_type": "stream",
     "text": [
      "Epoch [10/20], Loss: 0.6647, Accuracy: 0.7198\n"
     ]
    },
    {
     "name": "stderr",
     "output_type": "stream",
     "text": [
      "\n"
     ]
    },
    {
     "name": "stdout",
     "output_type": "stream",
     "text": [
      "Epoch 10/20 - Train Loss: 0.6647 - Train Acc: 0.7198 - Val Loss: 1.2622 - Val Acc: 0.5853\n"
     ]
    },
    {
     "name": "stderr",
     "output_type": "stream",
     "text": [
      "Training Epoch 11/20: 100%|██████████| 288/288 [00:18<00:00, 15.31it/s]"
     ]
    },
    {
     "name": "stdout",
     "output_type": "stream",
     "text": [
      "Epoch [11/20], Loss: 0.6286, Accuracy: 0.7259\n"
     ]
    },
    {
     "name": "stderr",
     "output_type": "stream",
     "text": [
      "\n"
     ]
    },
    {
     "name": "stdout",
     "output_type": "stream",
     "text": [
      "Epoch 11/20 - Train Loss: 0.6286 - Train Acc: 0.7259 - Val Loss: 1.2661 - Val Acc: 0.5690\n"
     ]
    },
    {
     "name": "stderr",
     "output_type": "stream",
     "text": [
      "Training Epoch 12/20: 100%|██████████| 288/288 [00:18<00:00, 15.77it/s]"
     ]
    },
    {
     "name": "stdout",
     "output_type": "stream",
     "text": [
      "Epoch [12/20], Loss: 0.5516, Accuracy: 0.7617\n"
     ]
    },
    {
     "name": "stderr",
     "output_type": "stream",
     "text": [
      "\n"
     ]
    },
    {
     "name": "stdout",
     "output_type": "stream",
     "text": [
      "Epoch 12/20 - Train Loss: 0.5516 - Train Acc: 0.7617 - Val Loss: 1.3523 - Val Acc: 0.5599\n"
     ]
    },
    {
     "name": "stderr",
     "output_type": "stream",
     "text": [
      "Training Epoch 13/20: 100%|██████████| 288/288 [00:18<00:00, 15.91it/s]"
     ]
    },
    {
     "name": "stdout",
     "output_type": "stream",
     "text": [
      "Epoch [13/20], Loss: 0.5301, Accuracy: 0.7665\n"
     ]
    },
    {
     "name": "stderr",
     "output_type": "stream",
     "text": [
      "\n"
     ]
    },
    {
     "name": "stdout",
     "output_type": "stream",
     "text": [
      "Epoch 13/20 - Train Loss: 0.5301 - Train Acc: 0.7665 - Val Loss: 1.4130 - Val Acc: 0.5892\n"
     ]
    },
    {
     "name": "stderr",
     "output_type": "stream",
     "text": [
      "Training Epoch 14/20: 100%|██████████| 288/288 [00:10<00:00, 27.01it/s]"
     ]
    },
    {
     "name": "stdout",
     "output_type": "stream",
     "text": [
      "Epoch [14/20], Loss: 0.4766, Accuracy: 0.7843\n"
     ]
    },
    {
     "name": "stderr",
     "output_type": "stream",
     "text": [
      "\n"
     ]
    },
    {
     "name": "stdout",
     "output_type": "stream",
     "text": [
      "Epoch 14/20 - Train Loss: 0.4766 - Train Acc: 0.7843 - Val Loss: 1.5636 - Val Acc: 0.5658\n"
     ]
    },
    {
     "name": "stderr",
     "output_type": "stream",
     "text": [
      "Training Epoch 15/20: 100%|██████████| 288/288 [00:17<00:00, 16.02it/s]"
     ]
    },
    {
     "name": "stdout",
     "output_type": "stream",
     "text": [
      "Epoch [15/20], Loss: 0.4589, Accuracy: 0.7894\n"
     ]
    },
    {
     "name": "stderr",
     "output_type": "stream",
     "text": [
      "\n"
     ]
    },
    {
     "name": "stdout",
     "output_type": "stream",
     "text": [
      "Epoch 15/20 - Train Loss: 0.4589 - Train Acc: 0.7894 - Val Loss: 1.5345 - Val Acc: 0.5651\n"
     ]
    },
    {
     "name": "stderr",
     "output_type": "stream",
     "text": [
      "Training Epoch 16/20: 100%|██████████| 288/288 [00:18<00:00, 15.96it/s]"
     ]
    },
    {
     "name": "stdout",
     "output_type": "stream",
     "text": [
      "Epoch [16/20], Loss: 0.4429, Accuracy: 0.7980\n"
     ]
    },
    {
     "name": "stderr",
     "output_type": "stream",
     "text": [
      "\n"
     ]
    },
    {
     "name": "stdout",
     "output_type": "stream",
     "text": [
      "Epoch 16/20 - Train Loss: 0.4429 - Train Acc: 0.7980 - Val Loss: 1.7169 - Val Acc: 0.5736\n"
     ]
    },
    {
     "name": "stderr",
     "output_type": "stream",
     "text": [
      "Training Epoch 17/20: 100%|██████████| 288/288 [00:18<00:00, 15.88it/s]"
     ]
    },
    {
     "name": "stdout",
     "output_type": "stream",
     "text": [
      "Epoch [17/20], Loss: 0.4169, Accuracy: 0.8026\n"
     ]
    },
    {
     "name": "stderr",
     "output_type": "stream",
     "text": [
      "\n"
     ]
    },
    {
     "name": "stdout",
     "output_type": "stream",
     "text": [
      "Epoch 17/20 - Train Loss: 0.4169 - Train Acc: 0.8026 - Val Loss: 1.7347 - Val Acc: 0.5638\n"
     ]
    },
    {
     "name": "stderr",
     "output_type": "stream",
     "text": [
      "Training Epoch 18/20: 100%|██████████| 288/288 [00:18<00:00, 15.87it/s]"
     ]
    },
    {
     "name": "stdout",
     "output_type": "stream",
     "text": [
      "Epoch [18/20], Loss: 0.4163, Accuracy: 0.8011\n"
     ]
    },
    {
     "name": "stderr",
     "output_type": "stream",
     "text": [
      "\n"
     ]
    },
    {
     "name": "stdout",
     "output_type": "stream",
     "text": [
      "Epoch 18/20 - Train Loss: 0.4163 - Train Acc: 0.8011 - Val Loss: 1.7806 - Val Acc: 0.5553\n"
     ]
    },
    {
     "name": "stderr",
     "output_type": "stream",
     "text": [
      "Training Epoch 19/20: 100%|██████████| 288/288 [00:11<00:00, 25.07it/s]"
     ]
    },
    {
     "name": "stdout",
     "output_type": "stream",
     "text": [
      "Epoch [19/20], Loss: 0.3947, Accuracy: 0.8072\n"
     ]
    },
    {
     "name": "stderr",
     "output_type": "stream",
     "text": [
      "\n"
     ]
    },
    {
     "name": "stdout",
     "output_type": "stream",
     "text": [
      "Epoch 19/20 - Train Loss: 0.3947 - Train Acc: 0.8072 - Val Loss: 1.7111 - Val Acc: 0.5762\n"
     ]
    },
    {
     "name": "stderr",
     "output_type": "stream",
     "text": [
      "Training Epoch 20/20: 100%|██████████| 288/288 [00:16<00:00, 17.75it/s]"
     ]
    },
    {
     "name": "stdout",
     "output_type": "stream",
     "text": [
      "Epoch [20/20], Loss: 0.3907, Accuracy: 0.8022\n"
     ]
    },
    {
     "name": "stderr",
     "output_type": "stream",
     "text": [
      "\n"
     ]
    },
    {
     "name": "stdout",
     "output_type": "stream",
     "text": [
      "Epoch 20/20 - Train Loss: 0.3907 - Train Acc: 0.8022 - Val Loss: 2.0521 - Val Acc: 0.5469\n",
      "History saved to training_results/EfficientNet_history.csv\n",
      "Training model: Inception_v3\n"
     ]
    },
    {
     "name": "stderr",
     "output_type": "stream",
     "text": [
      "Training Epoch 1/20: 100%|██████████| 288/288 [00:19<00:00, 14.52it/s]"
     ]
    },
    {
     "name": "stdout",
     "output_type": "stream",
     "text": [
      "Epoch [1/20], Loss: 1.5673, Accuracy: 0.3564\n"
     ]
    },
    {
     "name": "stderr",
     "output_type": "stream",
     "text": [
      "\n"
     ]
    },
    {
     "name": "stdout",
     "output_type": "stream",
     "text": [
      "Epoch 1/20 - Train Loss: 1.5673 - Train Acc: 0.3564 - Val Loss: 1.4870 - Val Acc: 0.3685\n"
     ]
    },
    {
     "name": "stderr",
     "output_type": "stream",
     "text": [
      "Training Epoch 2/20: 100%|██████████| 288/288 [00:27<00:00, 10.29it/s]"
     ]
    },
    {
     "name": "stdout",
     "output_type": "stream",
     "text": [
      "Epoch [2/20], Loss: 1.2382, Accuracy: 0.4821\n"
     ]
    },
    {
     "name": "stderr",
     "output_type": "stream",
     "text": [
      "\n"
     ]
    },
    {
     "name": "stdout",
     "output_type": "stream",
     "text": [
      "Epoch 2/20 - Train Loss: 1.2382 - Train Acc: 0.4821 - Val Loss: 1.2664 - Val Acc: 0.4850\n"
     ]
    },
    {
     "name": "stderr",
     "output_type": "stream",
     "text": [
      "Training Epoch 3/20: 100%|██████████| 288/288 [00:19<00:00, 14.67it/s]"
     ]
    },
    {
     "name": "stdout",
     "output_type": "stream",
     "text": [
      "Epoch [3/20], Loss: 1.0821, Accuracy: 0.5616\n"
     ]
    },
    {
     "name": "stderr",
     "output_type": "stream",
     "text": [
      "\n"
     ]
    },
    {
     "name": "stdout",
     "output_type": "stream",
     "text": [
      "Epoch 3/20 - Train Loss: 1.0821 - Train Acc: 0.5616 - Val Loss: 1.1930 - Val Acc: 0.4987\n"
     ]
    },
    {
     "name": "stderr",
     "output_type": "stream",
     "text": [
      "Training Epoch 4/20: 100%|██████████| 288/288 [00:22<00:00, 12.67it/s]"
     ]
    },
    {
     "name": "stdout",
     "output_type": "stream",
     "text": [
      "Epoch [4/20], Loss: 0.9593, Accuracy: 0.6237\n"
     ]
    },
    {
     "name": "stderr",
     "output_type": "stream",
     "text": [
      "\n"
     ]
    },
    {
     "name": "stdout",
     "output_type": "stream",
     "text": [
      "Epoch 4/20 - Train Loss: 0.9593 - Train Acc: 0.6237 - Val Loss: 1.1138 - Val Acc: 0.5742\n"
     ]
    },
    {
     "name": "stderr",
     "output_type": "stream",
     "text": [
      "Training Epoch 5/20: 100%|██████████| 288/288 [00:24<00:00, 11.95it/s]"
     ]
    },
    {
     "name": "stdout",
     "output_type": "stream",
     "text": [
      "Epoch [5/20], Loss: 0.8761, Accuracy: 0.6625\n"
     ]
    },
    {
     "name": "stderr",
     "output_type": "stream",
     "text": [
      "\n"
     ]
    },
    {
     "name": "stdout",
     "output_type": "stream",
     "text": [
      "Epoch 5/20 - Train Loss: 0.8761 - Train Acc: 0.6625 - Val Loss: 1.1837 - Val Acc: 0.5488\n"
     ]
    },
    {
     "name": "stderr",
     "output_type": "stream",
     "text": [
      "Training Epoch 6/20: 100%|██████████| 288/288 [00:26<00:00, 10.87it/s]\n"
     ]
    },
    {
     "name": "stdout",
     "output_type": "stream",
     "text": [
      "Epoch [6/20], Loss: 0.7941, Accuracy: 0.6961\n",
      "Epoch 6/20 - Train Loss: 0.7941 - Train Acc: 0.6961 - Val Loss: 0.9956 - Val Acc: 0.6016\n"
     ]
    },
    {
     "name": "stderr",
     "output_type": "stream",
     "text": [
      "Training Epoch 7/20: 100%|██████████| 288/288 [00:24<00:00, 11.88it/s]"
     ]
    },
    {
     "name": "stdout",
     "output_type": "stream",
     "text": [
      "Epoch [7/20], Loss: 0.7489, Accuracy: 0.7186\n"
     ]
    },
    {
     "name": "stderr",
     "output_type": "stream",
     "text": [
      "\n"
     ]
    },
    {
     "name": "stdout",
     "output_type": "stream",
     "text": [
      "Epoch 7/20 - Train Loss: 0.7489 - Train Acc: 0.7186 - Val Loss: 1.1029 - Val Acc: 0.5820\n"
     ]
    },
    {
     "name": "stderr",
     "output_type": "stream",
     "text": [
      "Training Epoch 8/20: 100%|██████████| 288/288 [00:27<00:00, 10.64it/s]"
     ]
    },
    {
     "name": "stdout",
     "output_type": "stream",
     "text": [
      "Epoch [8/20], Loss: 0.6875, Accuracy: 0.7426\n"
     ]
    },
    {
     "name": "stderr",
     "output_type": "stream",
     "text": [
      "\n"
     ]
    },
    {
     "name": "stdout",
     "output_type": "stream",
     "text": [
      "Epoch 8/20 - Train Loss: 0.6875 - Train Acc: 0.7426 - Val Loss: 1.2495 - Val Acc: 0.5475\n"
     ]
    },
    {
     "name": "stderr",
     "output_type": "stream",
     "text": [
      "Training Epoch 9/20: 100%|██████████| 288/288 [00:25<00:00, 11.16it/s]"
     ]
    },
    {
     "name": "stdout",
     "output_type": "stream",
     "text": [
      "Epoch [9/20], Loss: 0.6079, Accuracy: 0.7747\n"
     ]
    },
    {
     "name": "stderr",
     "output_type": "stream",
     "text": [
      "\n"
     ]
    },
    {
     "name": "stdout",
     "output_type": "stream",
     "text": [
      "Epoch 9/20 - Train Loss: 0.6079 - Train Acc: 0.7747 - Val Loss: 1.1180 - Val Acc: 0.5964\n"
     ]
    },
    {
     "name": "stderr",
     "output_type": "stream",
     "text": [
      "Training Epoch 10/20: 100%|██████████| 288/288 [00:29<00:00,  9.81it/s]"
     ]
    },
    {
     "name": "stdout",
     "output_type": "stream",
     "text": [
      "Epoch [10/20], Loss: 0.5404, Accuracy: 0.8023\n"
     ]
    },
    {
     "name": "stderr",
     "output_type": "stream",
     "text": [
      "\n"
     ]
    },
    {
     "name": "stdout",
     "output_type": "stream",
     "text": [
      "Epoch 10/20 - Train Loss: 0.5404 - Train Acc: 0.8023 - Val Loss: 1.1342 - Val Acc: 0.6003\n"
     ]
    },
    {
     "name": "stderr",
     "output_type": "stream",
     "text": [
      "Training Epoch 11/20: 100%|██████████| 288/288 [00:25<00:00, 11.17it/s]"
     ]
    },
    {
     "name": "stdout",
     "output_type": "stream",
     "text": [
      "Epoch [11/20], Loss: 0.4728, Accuracy: 0.8241\n"
     ]
    },
    {
     "name": "stderr",
     "output_type": "stream",
     "text": [
      "\n"
     ]
    },
    {
     "name": "stdout",
     "output_type": "stream",
     "text": [
      "Epoch 11/20 - Train Loss: 0.4728 - Train Acc: 0.8241 - Val Loss: 1.2188 - Val Acc: 0.6243\n"
     ]
    },
    {
     "name": "stderr",
     "output_type": "stream",
     "text": [
      "Training Epoch 12/20: 100%|██████████| 288/288 [00:23<00:00, 12.37it/s]"
     ]
    },
    {
     "name": "stdout",
     "output_type": "stream",
     "text": [
      "Epoch [12/20], Loss: 0.4254, Accuracy: 0.8467\n"
     ]
    },
    {
     "name": "stderr",
     "output_type": "stream",
     "text": [
      "\n"
     ]
    },
    {
     "name": "stdout",
     "output_type": "stream",
     "text": [
      "Epoch 12/20 - Train Loss: 0.4254 - Train Acc: 0.8467 - Val Loss: 1.0886 - Val Acc: 0.6263\n"
     ]
    },
    {
     "name": "stderr",
     "output_type": "stream",
     "text": [
      "Training Epoch 13/20: 100%|██████████| 288/288 [00:24<00:00, 12.00it/s]"
     ]
    },
    {
     "name": "stdout",
     "output_type": "stream",
     "text": [
      "Epoch [13/20], Loss: 0.3760, Accuracy: 0.8618\n"
     ]
    },
    {
     "name": "stderr",
     "output_type": "stream",
     "text": [
      "\n"
     ]
    },
    {
     "name": "stdout",
     "output_type": "stream",
     "text": [
      "Epoch 13/20 - Train Loss: 0.3760 - Train Acc: 0.8618 - Val Loss: 1.2503 - Val Acc: 0.5977\n"
     ]
    },
    {
     "name": "stderr",
     "output_type": "stream",
     "text": [
      "Training Epoch 14/20: 100%|██████████| 288/288 [00:22<00:00, 12.85it/s]"
     ]
    },
    {
     "name": "stdout",
     "output_type": "stream",
     "text": [
      "Epoch [14/20], Loss: 0.3461, Accuracy: 0.8772\n"
     ]
    },
    {
     "name": "stderr",
     "output_type": "stream",
     "text": [
      "\n"
     ]
    },
    {
     "name": "stdout",
     "output_type": "stream",
     "text": [
      "Epoch 14/20 - Train Loss: 0.3461 - Train Acc: 0.8772 - Val Loss: 1.4190 - Val Acc: 0.6074\n"
     ]
    },
    {
     "name": "stderr",
     "output_type": "stream",
     "text": [
      "Training Epoch 15/20: 100%|██████████| 288/288 [00:18<00:00, 15.36it/s]"
     ]
    },
    {
     "name": "stdout",
     "output_type": "stream",
     "text": [
      "Epoch [15/20], Loss: 0.2772, Accuracy: 0.9023\n"
     ]
    },
    {
     "name": "stderr",
     "output_type": "stream",
     "text": [
      "\n"
     ]
    },
    {
     "name": "stdout",
     "output_type": "stream",
     "text": [
      "Epoch 15/20 - Train Loss: 0.2772 - Train Acc: 0.9023 - Val Loss: 1.4693 - Val Acc: 0.6335\n"
     ]
    },
    {
     "name": "stderr",
     "output_type": "stream",
     "text": [
      "Training Epoch 16/20: 100%|██████████| 288/288 [00:18<00:00, 15.49it/s]"
     ]
    },
    {
     "name": "stdout",
     "output_type": "stream",
     "text": [
      "Epoch [16/20], Loss: 0.2410, Accuracy: 0.9140\n"
     ]
    },
    {
     "name": "stderr",
     "output_type": "stream",
     "text": [
      "\n"
     ]
    },
    {
     "name": "stdout",
     "output_type": "stream",
     "text": [
      "Epoch 16/20 - Train Loss: 0.2410 - Train Acc: 0.9140 - Val Loss: 1.4521 - Val Acc: 0.6198\n"
     ]
    },
    {
     "name": "stderr",
     "output_type": "stream",
     "text": [
      "Training Epoch 17/20: 100%|██████████| 288/288 [00:18<00:00, 15.55it/s]"
     ]
    },
    {
     "name": "stdout",
     "output_type": "stream",
     "text": [
      "Epoch [17/20], Loss: 0.2065, Accuracy: 0.9264\n"
     ]
    },
    {
     "name": "stderr",
     "output_type": "stream",
     "text": [
      "\n"
     ]
    },
    {
     "name": "stdout",
     "output_type": "stream",
     "text": [
      "Epoch 17/20 - Train Loss: 0.2065 - Train Acc: 0.9264 - Val Loss: 1.4400 - Val Acc: 0.6172\n"
     ]
    },
    {
     "name": "stderr",
     "output_type": "stream",
     "text": [
      "Training Epoch 18/20: 100%|██████████| 288/288 [00:25<00:00, 11.15it/s]"
     ]
    },
    {
     "name": "stdout",
     "output_type": "stream",
     "text": [
      "Epoch [18/20], Loss: 0.1919, Accuracy: 0.9324\n"
     ]
    },
    {
     "name": "stderr",
     "output_type": "stream",
     "text": [
      "\n"
     ]
    },
    {
     "name": "stdout",
     "output_type": "stream",
     "text": [
      "Epoch 18/20 - Train Loss: 0.1919 - Train Acc: 0.9324 - Val Loss: 1.5475 - Val Acc: 0.6107\n"
     ]
    },
    {
     "name": "stderr",
     "output_type": "stream",
     "text": [
      "Training Epoch 19/20: 100%|██████████| 288/288 [00:32<00:00,  8.74it/s]"
     ]
    },
    {
     "name": "stdout",
     "output_type": "stream",
     "text": [
      "Epoch [19/20], Loss: 0.1877, Accuracy: 0.9321\n"
     ]
    },
    {
     "name": "stderr",
     "output_type": "stream",
     "text": [
      "\n"
     ]
    },
    {
     "name": "stdout",
     "output_type": "stream",
     "text": [
      "Epoch 19/20 - Train Loss: 0.1877 - Train Acc: 0.9321 - Val Loss: 1.7211 - Val Acc: 0.5892\n"
     ]
    },
    {
     "name": "stderr",
     "output_type": "stream",
     "text": [
      "Training Epoch 20/20: 100%|██████████| 288/288 [00:25<00:00, 11.10it/s]\n"
     ]
    },
    {
     "name": "stdout",
     "output_type": "stream",
     "text": [
      "Epoch [20/20], Loss: 0.1349, Accuracy: 0.9546\n",
      "Epoch 20/20 - Train Loss: 0.1349 - Train Acc: 0.9546 - Val Loss: 1.7964 - Val Acc: 0.6113\n",
      "History saved to training_results/Inception_v3_history.csv\n",
      "Training model: Inception_v4_ImageNet\n"
     ]
    },
    {
     "name": "stderr",
     "output_type": "stream",
     "text": [
      "Training Epoch 1/20: 100%|██████████| 288/288 [00:44<00:00,  6.43it/s]\n"
     ]
    },
    {
     "name": "stdout",
     "output_type": "stream",
     "text": [
      "Epoch [1/20], Loss: 1.5394, Accuracy: 0.2958\n",
      "Epoch 1/20 - Train Loss: 1.5394 - Train Acc: 0.2958 - Val Loss: 1.5912 - Val Acc: 0.2441\n"
     ]
    },
    {
     "name": "stderr",
     "output_type": "stream",
     "text": [
      "Training Epoch 2/20: 100%|██████████| 288/288 [00:48<00:00,  5.98it/s]"
     ]
    },
    {
     "name": "stdout",
     "output_type": "stream",
     "text": [
      "Epoch [2/20], Loss: 1.4432, Accuracy: 0.3343\n"
     ]
    },
    {
     "name": "stderr",
     "output_type": "stream",
     "text": [
      "\n"
     ]
    },
    {
     "name": "stdout",
     "output_type": "stream",
     "text": [
      "Epoch 2/20 - Train Loss: 1.4432 - Train Acc: 0.3343 - Val Loss: 1.8952 - Val Acc: 0.2318\n"
     ]
    },
    {
     "name": "stderr",
     "output_type": "stream",
     "text": [
      "Training Epoch 3/20: 100%|██████████| 288/288 [00:39<00:00,  7.29it/s]"
     ]
    },
    {
     "name": "stdout",
     "output_type": "stream",
     "text": [
      "Epoch [3/20], Loss: 1.3974, Accuracy: 0.3608\n"
     ]
    },
    {
     "name": "stderr",
     "output_type": "stream",
     "text": [
      "\n"
     ]
    },
    {
     "name": "stdout",
     "output_type": "stream",
     "text": [
      "Epoch 3/20 - Train Loss: 1.3974 - Train Acc: 0.3608 - Val Loss: 1.7319 - Val Acc: 0.2832\n"
     ]
    },
    {
     "name": "stderr",
     "output_type": "stream",
     "text": [
      "Training Epoch 4/20: 100%|██████████| 288/288 [00:47<00:00,  6.08it/s]"
     ]
    },
    {
     "name": "stdout",
     "output_type": "stream",
     "text": [
      "Epoch [4/20], Loss: 1.3161, Accuracy: 0.4234\n"
     ]
    },
    {
     "name": "stderr",
     "output_type": "stream",
     "text": [
      "\n"
     ]
    },
    {
     "name": "stdout",
     "output_type": "stream",
     "text": [
      "Epoch 4/20 - Train Loss: 1.3161 - Train Acc: 0.4234 - Val Loss: 1.5627 - Val Acc: 0.3092\n"
     ]
    },
    {
     "name": "stderr",
     "output_type": "stream",
     "text": [
      "Training Epoch 5/20: 100%|██████████| 288/288 [00:37<00:00,  7.77it/s]"
     ]
    },
    {
     "name": "stdout",
     "output_type": "stream",
     "text": [
      "Epoch [5/20], Loss: 1.2294, Accuracy: 0.4810\n"
     ]
    },
    {
     "name": "stderr",
     "output_type": "stream",
     "text": [
      "\n"
     ]
    },
    {
     "name": "stdout",
     "output_type": "stream",
     "text": [
      "Epoch 5/20 - Train Loss: 1.2294 - Train Acc: 0.4810 - Val Loss: 1.2695 - Val Acc: 0.4714\n"
     ]
    },
    {
     "name": "stderr",
     "output_type": "stream",
     "text": [
      "Training Epoch 6/20: 100%|██████████| 288/288 [00:41<00:00,  6.93it/s]"
     ]
    },
    {
     "name": "stdout",
     "output_type": "stream",
     "text": [
      "Epoch [6/20], Loss: 1.1463, Accuracy: 0.5312\n"
     ]
    },
    {
     "name": "stderr",
     "output_type": "stream",
     "text": [
      "\n"
     ]
    },
    {
     "name": "stdout",
     "output_type": "stream",
     "text": [
      "Epoch 6/20 - Train Loss: 1.1463 - Train Acc: 0.5312 - Val Loss: 1.2296 - Val Acc: 0.4928\n"
     ]
    },
    {
     "name": "stderr",
     "output_type": "stream",
     "text": [
      "Training Epoch 7/20: 100%|██████████| 288/288 [00:33<00:00,  8.50it/s]"
     ]
    },
    {
     "name": "stdout",
     "output_type": "stream",
     "text": [
      "Epoch [7/20], Loss: 1.0532, Accuracy: 0.5689\n"
     ]
    },
    {
     "name": "stderr",
     "output_type": "stream",
     "text": [
      "\n"
     ]
    },
    {
     "name": "stdout",
     "output_type": "stream",
     "text": [
      "Epoch 7/20 - Train Loss: 1.0532 - Train Acc: 0.5689 - Val Loss: 1.1604 - Val Acc: 0.5254\n"
     ]
    },
    {
     "name": "stderr",
     "output_type": "stream",
     "text": [
      "Training Epoch 8/20: 100%|██████████| 288/288 [00:34<00:00,  8.32it/s]"
     ]
    },
    {
     "name": "stdout",
     "output_type": "stream",
     "text": [
      "Epoch [8/20], Loss: 0.9973, Accuracy: 0.5982\n"
     ]
    },
    {
     "name": "stderr",
     "output_type": "stream",
     "text": [
      "\n"
     ]
    },
    {
     "name": "stdout",
     "output_type": "stream",
     "text": [
      "Epoch 8/20 - Train Loss: 0.9973 - Train Acc: 0.5982 - Val Loss: 1.1049 - Val Acc: 0.5658\n"
     ]
    },
    {
     "name": "stderr",
     "output_type": "stream",
     "text": [
      "Training Epoch 9/20: 100%|██████████| 288/288 [00:46<00:00,  6.15it/s]"
     ]
    },
    {
     "name": "stdout",
     "output_type": "stream",
     "text": [
      "Epoch [9/20], Loss: 0.9423, Accuracy: 0.6293\n"
     ]
    },
    {
     "name": "stderr",
     "output_type": "stream",
     "text": [
      "\n"
     ]
    },
    {
     "name": "stdout",
     "output_type": "stream",
     "text": [
      "Epoch 9/20 - Train Loss: 0.9423 - Train Acc: 0.6293 - Val Loss: 1.0701 - Val Acc: 0.5749\n"
     ]
    },
    {
     "name": "stderr",
     "output_type": "stream",
     "text": [
      "Training Epoch 10/20: 100%|██████████| 288/288 [00:49<00:00,  5.76it/s]"
     ]
    },
    {
     "name": "stdout",
     "output_type": "stream",
     "text": [
      "Epoch [10/20], Loss: 0.8802, Accuracy: 0.6595\n"
     ]
    },
    {
     "name": "stderr",
     "output_type": "stream",
     "text": [
      "\n"
     ]
    },
    {
     "name": "stdout",
     "output_type": "stream",
     "text": [
      "Epoch 10/20 - Train Loss: 0.8802 - Train Acc: 0.6595 - Val Loss: 1.0889 - Val Acc: 0.5833\n"
     ]
    },
    {
     "name": "stderr",
     "output_type": "stream",
     "text": [
      "Training Epoch 11/20: 100%|██████████| 288/288 [00:39<00:00,  7.21it/s]"
     ]
    },
    {
     "name": "stdout",
     "output_type": "stream",
     "text": [
      "Epoch [11/20], Loss: 0.8227, Accuracy: 0.6811\n"
     ]
    },
    {
     "name": "stderr",
     "output_type": "stream",
     "text": [
      "\n"
     ]
    },
    {
     "name": "stdout",
     "output_type": "stream",
     "text": [
      "Epoch 11/20 - Train Loss: 0.8227 - Train Acc: 0.6811 - Val Loss: 1.1564 - Val Acc: 0.5423\n"
     ]
    },
    {
     "name": "stderr",
     "output_type": "stream",
     "text": [
      "Training Epoch 12/20: 100%|██████████| 288/288 [00:48<00:00,  5.96it/s]"
     ]
    },
    {
     "name": "stdout",
     "output_type": "stream",
     "text": [
      "Epoch [12/20], Loss: 0.7614, Accuracy: 0.7107\n"
     ]
    },
    {
     "name": "stderr",
     "output_type": "stream",
     "text": [
      "\n"
     ]
    },
    {
     "name": "stdout",
     "output_type": "stream",
     "text": [
      "Epoch 12/20 - Train Loss: 0.7614 - Train Acc: 0.7107 - Val Loss: 1.0643 - Val Acc: 0.5820\n"
     ]
    },
    {
     "name": "stderr",
     "output_type": "stream",
     "text": [
      "Training Epoch 13/20: 100%|██████████| 288/288 [00:45<00:00,  6.40it/s]"
     ]
    },
    {
     "name": "stdout",
     "output_type": "stream",
     "text": [
      "Epoch [13/20], Loss: 0.7046, Accuracy: 0.7324\n"
     ]
    },
    {
     "name": "stderr",
     "output_type": "stream",
     "text": [
      "\n"
     ]
    },
    {
     "name": "stdout",
     "output_type": "stream",
     "text": [
      "Epoch 13/20 - Train Loss: 0.7046 - Train Acc: 0.7324 - Val Loss: 1.1464 - Val Acc: 0.5866\n"
     ]
    },
    {
     "name": "stderr",
     "output_type": "stream",
     "text": [
      "Training Epoch 14/20: 100%|██████████| 288/288 [00:45<00:00,  6.31it/s]"
     ]
    },
    {
     "name": "stdout",
     "output_type": "stream",
     "text": [
      "Epoch [14/20], Loss: 0.6574, Accuracy: 0.7567\n"
     ]
    },
    {
     "name": "stderr",
     "output_type": "stream",
     "text": [
      "\n"
     ]
    },
    {
     "name": "stdout",
     "output_type": "stream",
     "text": [
      "Epoch 14/20 - Train Loss: 0.6574 - Train Acc: 0.7567 - Val Loss: 1.1952 - Val Acc: 0.5898\n"
     ]
    },
    {
     "name": "stderr",
     "output_type": "stream",
     "text": [
      "Training Epoch 15/20: 100%|██████████| 288/288 [00:38<00:00,  7.54it/s]"
     ]
    },
    {
     "name": "stdout",
     "output_type": "stream",
     "text": [
      "Epoch [15/20], Loss: 0.5790, Accuracy: 0.7839\n"
     ]
    },
    {
     "name": "stderr",
     "output_type": "stream",
     "text": [
      "\n"
     ]
    },
    {
     "name": "stdout",
     "output_type": "stream",
     "text": [
      "Epoch 15/20 - Train Loss: 0.5790 - Train Acc: 0.7839 - Val Loss: 1.1624 - Val Acc: 0.6055\n"
     ]
    },
    {
     "name": "stderr",
     "output_type": "stream",
     "text": [
      "Training Epoch 16/20: 100%|██████████| 288/288 [00:33<00:00,  8.54it/s]"
     ]
    },
    {
     "name": "stdout",
     "output_type": "stream",
     "text": [
      "Epoch [16/20], Loss: 0.5176, Accuracy: 0.8158\n"
     ]
    },
    {
     "name": "stderr",
     "output_type": "stream",
     "text": [
      "\n"
     ]
    },
    {
     "name": "stdout",
     "output_type": "stream",
     "text": [
      "Epoch 16/20 - Train Loss: 0.5176 - Train Acc: 0.8158 - Val Loss: 1.1847 - Val Acc: 0.5990\n"
     ]
    },
    {
     "name": "stderr",
     "output_type": "stream",
     "text": [
      "Training Epoch 17/20: 100%|██████████| 288/288 [00:44<00:00,  6.42it/s]"
     ]
    },
    {
     "name": "stdout",
     "output_type": "stream",
     "text": [
      "Epoch [17/20], Loss: 0.4761, Accuracy: 0.8298\n"
     ]
    },
    {
     "name": "stderr",
     "output_type": "stream",
     "text": [
      "\n"
     ]
    },
    {
     "name": "stdout",
     "output_type": "stream",
     "text": [
      "Epoch 17/20 - Train Loss: 0.4761 - Train Acc: 0.8298 - Val Loss: 1.1799 - Val Acc: 0.6087\n"
     ]
    },
    {
     "name": "stderr",
     "output_type": "stream",
     "text": [
      "Training Epoch 18/20: 100%|██████████| 288/288 [00:48<00:00,  5.98it/s]"
     ]
    },
    {
     "name": "stdout",
     "output_type": "stream",
     "text": [
      "Epoch [18/20], Loss: 0.4260, Accuracy: 0.8460\n"
     ]
    },
    {
     "name": "stderr",
     "output_type": "stream",
     "text": [
      "\n"
     ]
    },
    {
     "name": "stdout",
     "output_type": "stream",
     "text": [
      "Epoch 18/20 - Train Loss: 0.4260 - Train Acc: 0.8460 - Val Loss: 1.3857 - Val Acc: 0.5729\n"
     ]
    },
    {
     "name": "stderr",
     "output_type": "stream",
     "text": [
      "Training Epoch 19/20: 100%|██████████| 288/288 [00:45<00:00,  6.39it/s]"
     ]
    },
    {
     "name": "stdout",
     "output_type": "stream",
     "text": [
      "Epoch [19/20], Loss: 0.3641, Accuracy: 0.8734\n"
     ]
    },
    {
     "name": "stderr",
     "output_type": "stream",
     "text": [
      "\n"
     ]
    },
    {
     "name": "stdout",
     "output_type": "stream",
     "text": [
      "Epoch 19/20 - Train Loss: 0.3641 - Train Acc: 0.8734 - Val Loss: 1.3863 - Val Acc: 0.5872\n"
     ]
    },
    {
     "name": "stderr",
     "output_type": "stream",
     "text": [
      "Training Epoch 20/20: 100%|██████████| 288/288 [00:40<00:00,  7.09it/s]"
     ]
    },
    {
     "name": "stdout",
     "output_type": "stream",
     "text": [
      "Epoch [20/20], Loss: 0.3291, Accuracy: 0.8835\n"
     ]
    },
    {
     "name": "stderr",
     "output_type": "stream",
     "text": [
      "\n"
     ]
    },
    {
     "name": "stdout",
     "output_type": "stream",
     "text": [
      "Epoch 20/20 - Train Loss: 0.3291 - Train Acc: 0.8835 - Val Loss: 1.7145 - Val Acc: 0.5638\n",
      "History saved to training_results/Inception_v4_ImageNet_history.csv\n",
      "Training model: Inception_v4_Resnet_v2\n"
     ]
    },
    {
     "name": "stderr",
     "output_type": "stream",
     "text": [
      "Training Epoch 1/20: 100%|██████████| 288/288 [01:02<00:00,  4.58it/s]"
     ]
    },
    {
     "name": "stdout",
     "output_type": "stream",
     "text": [
      "Epoch [1/20], Loss: 1.4308, Accuracy: 0.3661\n"
     ]
    },
    {
     "name": "stderr",
     "output_type": "stream",
     "text": [
      "\n"
     ]
    },
    {
     "name": "stdout",
     "output_type": "stream",
     "text": [
      "Epoch 1/20 - Train Loss: 1.4308 - Train Acc: 0.3661 - Val Loss: 1.8638 - Val Acc: 0.3411\n"
     ]
    },
    {
     "name": "stderr",
     "output_type": "stream",
     "text": [
      "Training Epoch 2/20: 100%|██████████| 288/288 [01:02<00:00,  4.59it/s]\n"
     ]
    },
    {
     "name": "stdout",
     "output_type": "stream",
     "text": [
      "Epoch [2/20], Loss: 1.2217, Accuracy: 0.4867\n",
      "Epoch 2/20 - Train Loss: 1.2217 - Train Acc: 0.4867 - Val Loss: 1.2347 - Val Acc: 0.5137\n"
     ]
    },
    {
     "name": "stderr",
     "output_type": "stream",
     "text": [
      "Training Epoch 3/20: 100%|██████████| 288/288 [01:06<00:00,  4.35it/s]"
     ]
    },
    {
     "name": "stdout",
     "output_type": "stream",
     "text": [
      "Epoch [3/20], Loss: 1.0664, Accuracy: 0.5699\n"
     ]
    },
    {
     "name": "stderr",
     "output_type": "stream",
     "text": [
      "\n"
     ]
    },
    {
     "name": "stdout",
     "output_type": "stream",
     "text": [
      "Epoch 3/20 - Train Loss: 1.0664 - Train Acc: 0.5699 - Val Loss: 1.2314 - Val Acc: 0.5130\n"
     ]
    },
    {
     "name": "stderr",
     "output_type": "stream",
     "text": [
      "Training Epoch 4/20: 100%|██████████| 288/288 [00:51<00:00,  5.64it/s]\n"
     ]
    },
    {
     "name": "stdout",
     "output_type": "stream",
     "text": [
      "Epoch [4/20], Loss: 0.9537, Accuracy: 0.6235\n",
      "Epoch 4/20 - Train Loss: 0.9537 - Train Acc: 0.6235 - Val Loss: 1.1905 - Val Acc: 0.5299\n"
     ]
    },
    {
     "name": "stderr",
     "output_type": "stream",
     "text": [
      "Training Epoch 5/20: 100%|██████████| 288/288 [00:58<00:00,  4.96it/s]"
     ]
    },
    {
     "name": "stdout",
     "output_type": "stream",
     "text": [
      "Epoch [5/20], Loss: 0.8450, Accuracy: 0.6738\n"
     ]
    },
    {
     "name": "stderr",
     "output_type": "stream",
     "text": [
      "\n"
     ]
    },
    {
     "name": "stdout",
     "output_type": "stream",
     "text": [
      "Epoch 5/20 - Train Loss: 0.8450 - Train Acc: 0.6738 - Val Loss: 1.0419 - Val Acc: 0.6016\n"
     ]
    },
    {
     "name": "stderr",
     "output_type": "stream",
     "text": [
      "Training Epoch 6/20: 100%|██████████| 288/288 [00:40<00:00,  7.15it/s]\n"
     ]
    },
    {
     "name": "stdout",
     "output_type": "stream",
     "text": [
      "Epoch [6/20], Loss: 0.7532, Accuracy: 0.7167\n",
      "Epoch 6/20 - Train Loss: 0.7532 - Train Acc: 0.7167 - Val Loss: 0.9882 - Val Acc: 0.6230\n"
     ]
    },
    {
     "name": "stderr",
     "output_type": "stream",
     "text": [
      "Training Epoch 7/20: 100%|██████████| 288/288 [00:40<00:00,  7.12it/s]\n"
     ]
    },
    {
     "name": "stdout",
     "output_type": "stream",
     "text": [
      "Epoch [7/20], Loss: 0.6668, Accuracy: 0.7492\n",
      "Epoch 7/20 - Train Loss: 0.6668 - Train Acc: 0.7492 - Val Loss: 1.0491 - Val Acc: 0.5983\n"
     ]
    },
    {
     "name": "stderr",
     "output_type": "stream",
     "text": [
      "Training Epoch 8/20: 100%|██████████| 288/288 [00:41<00:00,  6.99it/s]\n"
     ]
    },
    {
     "name": "stdout",
     "output_type": "stream",
     "text": [
      "Epoch [8/20], Loss: 0.5790, Accuracy: 0.7892\n",
      "Epoch 8/20 - Train Loss: 0.5790 - Train Acc: 0.7892 - Val Loss: 1.0421 - Val Acc: 0.6211\n"
     ]
    },
    {
     "name": "stderr",
     "output_type": "stream",
     "text": [
      "Training Epoch 9/20: 100%|██████████| 288/288 [00:43<00:00,  6.59it/s]\n"
     ]
    },
    {
     "name": "stdout",
     "output_type": "stream",
     "text": [
      "Epoch [9/20], Loss: 0.4969, Accuracy: 0.8173\n",
      "Epoch 9/20 - Train Loss: 0.4969 - Train Acc: 0.8173 - Val Loss: 1.0304 - Val Acc: 0.6432\n"
     ]
    },
    {
     "name": "stderr",
     "output_type": "stream",
     "text": [
      "Training Epoch 10/20: 100%|██████████| 288/288 [00:51<00:00,  5.64it/s]"
     ]
    },
    {
     "name": "stdout",
     "output_type": "stream",
     "text": [
      "Epoch [10/20], Loss: 0.3973, Accuracy: 0.8601\n"
     ]
    },
    {
     "name": "stderr",
     "output_type": "stream",
     "text": [
      "\n"
     ]
    },
    {
     "name": "stdout",
     "output_type": "stream",
     "text": [
      "Epoch 10/20 - Train Loss: 0.3973 - Train Acc: 0.8601 - Val Loss: 1.2430 - Val Acc: 0.6230\n"
     ]
    },
    {
     "name": "stderr",
     "output_type": "stream",
     "text": [
      "Training Epoch 11/20: 100%|██████████| 288/288 [00:40<00:00,  7.13it/s]\n"
     ]
    },
    {
     "name": "stdout",
     "output_type": "stream",
     "text": [
      "Epoch [11/20], Loss: 0.3476, Accuracy: 0.8737\n",
      "Epoch 11/20 - Train Loss: 0.3476 - Train Acc: 0.8737 - Val Loss: 1.1863 - Val Acc: 0.6387\n"
     ]
    },
    {
     "name": "stderr",
     "output_type": "stream",
     "text": [
      "Training Epoch 12/20: 100%|██████████| 288/288 [01:05<00:00,  4.43it/s]\n"
     ]
    },
    {
     "name": "stdout",
     "output_type": "stream",
     "text": [
      "Epoch [12/20], Loss: 0.2749, Accuracy: 0.9015\n",
      "Epoch 12/20 - Train Loss: 0.2749 - Train Acc: 0.9015 - Val Loss: 1.2807 - Val Acc: 0.6380\n"
     ]
    },
    {
     "name": "stderr",
     "output_type": "stream",
     "text": [
      "Training Epoch 13/20: 100%|██████████| 288/288 [01:02<00:00,  4.62it/s]"
     ]
    },
    {
     "name": "stdout",
     "output_type": "stream",
     "text": [
      "Epoch [13/20], Loss: 0.2244, Accuracy: 0.9223\n"
     ]
    },
    {
     "name": "stderr",
     "output_type": "stream",
     "text": [
      "\n"
     ]
    },
    {
     "name": "stdout",
     "output_type": "stream",
     "text": [
      "Epoch 13/20 - Train Loss: 0.2244 - Train Acc: 0.9223 - Val Loss: 1.5722 - Val Acc: 0.6107\n"
     ]
    },
    {
     "name": "stderr",
     "output_type": "stream",
     "text": [
      "Training Epoch 14/20: 100%|██████████| 288/288 [01:02<00:00,  4.59it/s]"
     ]
    },
    {
     "name": "stdout",
     "output_type": "stream",
     "text": [
      "Epoch [14/20], Loss: 0.1738, Accuracy: 0.9401\n"
     ]
    },
    {
     "name": "stderr",
     "output_type": "stream",
     "text": [
      "\n"
     ]
    },
    {
     "name": "stdout",
     "output_type": "stream",
     "text": [
      "Epoch 14/20 - Train Loss: 0.1738 - Train Acc: 0.9401 - Val Loss: 1.6182 - Val Acc: 0.6159\n"
     ]
    },
    {
     "name": "stderr",
     "output_type": "stream",
     "text": [
      "Training Epoch 15/20: 100%|██████████| 288/288 [00:55<00:00,  5.22it/s]\n"
     ]
    },
    {
     "name": "stdout",
     "output_type": "stream",
     "text": [
      "Epoch [15/20], Loss: 0.1605, Accuracy: 0.9428\n",
      "Epoch 15/20 - Train Loss: 0.1605 - Train Acc: 0.9428 - Val Loss: 1.7880 - Val Acc: 0.6133\n"
     ]
    },
    {
     "name": "stderr",
     "output_type": "stream",
     "text": [
      "Training Epoch 16/20: 100%|██████████| 288/288 [00:40<00:00,  7.13it/s]\n"
     ]
    },
    {
     "name": "stdout",
     "output_type": "stream",
     "text": [
      "Epoch [16/20], Loss: 0.1239, Accuracy: 0.9584\n",
      "Epoch 16/20 - Train Loss: 0.1239 - Train Acc: 0.9584 - Val Loss: 1.6196 - Val Acc: 0.6263\n"
     ]
    },
    {
     "name": "stderr",
     "output_type": "stream",
     "text": [
      "Training Epoch 17/20: 100%|██████████| 288/288 [00:43<00:00,  6.58it/s]\n"
     ]
    },
    {
     "name": "stdout",
     "output_type": "stream",
     "text": [
      "Epoch [17/20], Loss: 0.1305, Accuracy: 0.9549\n",
      "Epoch 17/20 - Train Loss: 0.1305 - Train Acc: 0.9549 - Val Loss: 1.9569 - Val Acc: 0.6035\n"
     ]
    },
    {
     "name": "stderr",
     "output_type": "stream",
     "text": [
      "Training Epoch 18/20: 100%|██████████| 288/288 [00:49<00:00,  5.82it/s]"
     ]
    },
    {
     "name": "stdout",
     "output_type": "stream",
     "text": [
      "Epoch [18/20], Loss: 0.1181, Accuracy: 0.9588\n"
     ]
    },
    {
     "name": "stderr",
     "output_type": "stream",
     "text": [
      "\n"
     ]
    },
    {
     "name": "stdout",
     "output_type": "stream",
     "text": [
      "Epoch 18/20 - Train Loss: 0.1181 - Train Acc: 0.9588 - Val Loss: 1.9844 - Val Acc: 0.6113\n"
     ]
    },
    {
     "name": "stderr",
     "output_type": "stream",
     "text": [
      "Training Epoch 19/20: 100%|██████████| 288/288 [00:45<00:00,  6.31it/s]\n"
     ]
    },
    {
     "name": "stdout",
     "output_type": "stream",
     "text": [
      "Epoch [19/20], Loss: 0.0951, Accuracy: 0.9688\n",
      "Epoch 19/20 - Train Loss: 0.0951 - Train Acc: 0.9688 - Val Loss: 1.9686 - Val Acc: 0.6283\n"
     ]
    },
    {
     "name": "stderr",
     "output_type": "stream",
     "text": [
      "Training Epoch 20/20: 100%|██████████| 288/288 [00:40<00:00,  7.16it/s]\n"
     ]
    },
    {
     "name": "stdout",
     "output_type": "stream",
     "text": [
      "Epoch [20/20], Loss: 0.0787, Accuracy: 0.9716\n",
      "Epoch 20/20 - Train Loss: 0.0787 - Train Acc: 0.9716 - Val Loss: 1.7843 - Val Acc: 0.6224\n",
      "History saved to training_results/Inception_v4_Resnet_v2_history.csv\n"
     ]
    }
   ],
   "source": [
    "device = torch.device('cuda' if torch.cuda.is_available() else 'cpu')\n",
    "\n",
    "# Calculate class weights\n",
    "class_counts = torch.tensor([1920, 5760], dtype=torch.float32)  # Example counts for each class\n",
    "class_weights = 1.0 / class_counts  # Calculate weights inversely proportional to class counts\n",
    "\n",
    "weights = class_weights.to(device) \n",
    "\n",
    "# Training parameters\n",
    "epochs = 20\n",
    "\n",
    "# Define your models\n",
    "model1 = CNN()\n",
    "model2 = EfficientNet()\n",
    "model3 = Inception_v3()\n",
    "model4 = Inception_v4_ImageNet()\n",
    "model5 = Inception_v4_Resnet_v2()\n",
    "\n",
    "# Put them in a list along with their names\n",
    "models = [('CNN', model1), ('EfficientNet', model2), ('Inception_v3', model3), ('Inception_v4_ImageNet', model4), ('Inception_v4_Resnet_v2', model5)]\n",
    "\n",
    "# Define the loss function and optimizer\n",
    "criterion = nn.CrossEntropyLoss()  # Loss function for multi-class classification\n",
    "\n",
    "# Training parameters\n",
    "epochs = 20\n",
    "\n",
    "# Store the results for each model\n",
    "results = []\n",
    "\n",
    "# Train each model\n",
    "for model_name, model in models:\n",
    "    model.to(device)  # Move the model to the appropriate device\n",
    "    optimizer = optim.Adam(model.parameters(), lr=0.001)  # Define the optimizer here\n",
    "    print(f\"Training model: {model_name}\")\n",
    "    hostory = train_model(model, train_loader, validation_loader, criterion, optimizer, epochs, model_name)\n",
    "    results.append(hostory)"
   ]
  },
  {
   "cell_type": "code",
   "execution_count": 50,
   "id": "1c42900a-2ece-46b2-aed7-b4ad8bfcae80",
   "metadata": {},
   "outputs": [
    {
     "name": "stdout",
     "output_type": "stream",
     "text": [
      "1000 / 1920 : 525774\n",
      "1920 / 1920 : 999651\n"
     ]
    }
   ],
   "source": [
    "testPath = 'COMP90086_2024_Project_test'\n",
    "testFile = 'test.csv'\n",
    "\n",
    "test_filenames, _ = getFilenames(testPath, testFile, 'test')\n",
    "# Create test dataset and dataloader\n",
    "test_dataset = CustomCV2Dataset(test_filenames, [1] * len(test_filenames))  # Use the original validation data\n",
    "test_loader = DataLoader(test_dataset, batch_size=batch_size, shuffle=False, num_workers=4)"
   ]
  },
  {
   "cell_type": "code",
   "execution_count": 51,
   "id": "fc5f41a7-d6d8-40bf-94f9-dc0bbb2ee6f9",
   "metadata": {},
   "outputs": [],
   "source": [
    "def test_and_save(model, model_name):\n",
    "    # Set model to evaluation mode\n",
    "    model.eval()\n",
    "\n",
    "    # Store predictions\n",
    "    predictions = []\n",
    "\n",
    "    # No need to calculate gradients during inference\n",
    "    with torch.no_grad():\n",
    "        for images, _ in test_loader:\n",
    "            images = images.to(device)\n",
    "            images = images.float()  # Ensure the input is of type float32\n",
    "            outputs = model(images)\n",
    "            _, predicted = torch.max(outputs, 1)  # Get the index of the highest score\n",
    "            predicted = predicted + 1\n",
    "            predictions.extend(predicted.cpu().numpy())  # Store the predictions\n",
    "\n",
    "    # Now `predictions` will contain the predicted labels for the test images\n",
    "    test_path = os.path.join(testPath, testFile)\n",
    "    test_pred = pd.read_csv(test_path)\n",
    "    test_pred['stable_height'] = predictions\n",
    "\n",
    "    # Create the predictions directory if it doesn't exist\n",
    "    os.makedirs('predictions', exist_ok=True)\n",
    "\n",
    "    # Save the predictions in the 'predictions' directory\n",
    "    test_pred.set_index('id').to_csv(f'predictions/predictions_{model_name}.csv')\n",
    "\n",
    "# Test each model and save the predictions\n",
    "for model_name, model in models:\n",
    "    test_and_save(model, model_name)"
   ]
  }
 ],
 "metadata": {
  "kernelspec": {
   "display_name": "Python 3 (ipykernel)",
   "language": "python",
   "name": "python3"
  },
  "language_info": {
   "codemirror_mode": {
    "name": "ipython",
    "version": 3
   },
   "file_extension": ".py",
   "mimetype": "text/x-python",
   "name": "python",
   "nbconvert_exporter": "python",
   "pygments_lexer": "ipython3",
   "version": "3.11.10"
  }
 },
 "nbformat": 4,
 "nbformat_minor": 5
}
